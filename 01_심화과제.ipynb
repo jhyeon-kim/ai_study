{
  "nbformat": 4,
  "nbformat_minor": 0,
  "metadata": {
    "colab": {
      "provenance": [],
      "gpuType": "T4",
      "include_colab_link": true
    },
    "kernelspec": {
      "name": "python3",
      "display_name": "Python 3"
    },
    "language_info": {
      "name": "python"
    },
    "accelerator": "GPU"
  },
  "cells": [
    {
      "cell_type": "markdown",
      "metadata": {
        "id": "view-in-github",
        "colab_type": "text"
      },
      "source": [
        "<a href=\"https://colab.research.google.com/github/jhyeon-kim/ai_study/blob/main/01_%EC%8B%AC%ED%99%94%EA%B3%BC%EC%A0%9C.ipynb\" target=\"_parent\"><img src=\"https://colab.research.google.com/assets/colab-badge.svg\" alt=\"Open In Colab\"/></a>"
      ]
    },
    {
      "cell_type": "markdown",
      "source": [
        "# MNIST 실습\n",
        "\n",
        "이번에는 28x28 흑백 손글씨 이미지를 보고 0~9 사이의 숫자 중 어떤 숫자를 쓴 것인지 예측하는 문제를 실습합니다.\n",
        "이번 실습에서는 GPU를 활용할 것이기 때문에, 이전 챕터에서 Colab에서 GPU를 설정하는 방법을 따라해주시길 바랍니다.\n",
        "\n",
        "GPU를 설정했으면 library들을 import합니다."
      ],
      "metadata": {
        "id": "OPJenlrhihrh"
      }
    },
    {
      "cell_type": "code",
      "execution_count": null,
      "metadata": {
        "id": "6lXVfXoDtoQh"
      },
      "outputs": [],
      "source": [
        "import torch\n",
        "import torchvision\n",
        "import torchvision.transforms as transforms"
      ]
    },
    {
      "cell_type": "markdown",
      "source": [
        "다음은 dataset을 준비합니다. 손글씨 dataset은 MNIST라는 유명한 dataset이 있습니다. 이 dataset은 `torchvision`에서 제공하고 있으며, 다음과 같이 다운로드 받을 수 있습니다."
      ],
      "metadata": {
        "id": "pF-1zQvmiult"
      }
    },
    {
      "cell_type": "code",
      "source": [
        "transform = transforms.ToTensor()\n",
        "\n",
        "trainset = torchvision.datasets.MNIST(\n",
        "    root='./data',\n",
        "    train=True,\n",
        "    download=True,\n",
        "    transform=transform\n",
        ")"
      ],
      "metadata": {
        "id": "KAYlqPaRt6ti",
        "colab": {
          "base_uri": "https://localhost:8080/"
        },
        "outputId": "3d047985-3cb4-4aab-bcf0-67f1ade9fa92"
      },
      "execution_count": null,
      "outputs": [
        {
          "output_type": "stream",
          "name": "stdout",
          "text": [
            "Downloading http://yann.lecun.com/exdb/mnist/train-images-idx3-ubyte.gz\n",
            "Failed to download (trying next):\n",
            "HTTP Error 403: Forbidden\n",
            "\n",
            "Downloading https://ossci-datasets.s3.amazonaws.com/mnist/train-images-idx3-ubyte.gz\n",
            "Downloading https://ossci-datasets.s3.amazonaws.com/mnist/train-images-idx3-ubyte.gz to ./data/MNIST/raw/train-images-idx3-ubyte.gz\n"
          ]
        },
        {
          "output_type": "stream",
          "name": "stderr",
          "text": [
            "100%|██████████| 9912422/9912422 [00:01<00:00, 5036075.15it/s]\n"
          ]
        },
        {
          "output_type": "stream",
          "name": "stdout",
          "text": [
            "Extracting ./data/MNIST/raw/train-images-idx3-ubyte.gz to ./data/MNIST/raw\n",
            "\n",
            "Downloading http://yann.lecun.com/exdb/mnist/train-labels-idx1-ubyte.gz\n",
            "Failed to download (trying next):\n",
            "HTTP Error 403: Forbidden\n",
            "\n",
            "Downloading https://ossci-datasets.s3.amazonaws.com/mnist/train-labels-idx1-ubyte.gz\n",
            "Downloading https://ossci-datasets.s3.amazonaws.com/mnist/train-labels-idx1-ubyte.gz to ./data/MNIST/raw/train-labels-idx1-ubyte.gz\n"
          ]
        },
        {
          "output_type": "stream",
          "name": "stderr",
          "text": [
            "100%|██████████| 28881/28881 [00:00<00:00, 65642.36it/s]\n"
          ]
        },
        {
          "output_type": "stream",
          "name": "stdout",
          "text": [
            "Extracting ./data/MNIST/raw/train-labels-idx1-ubyte.gz to ./data/MNIST/raw\n",
            "\n",
            "Downloading http://yann.lecun.com/exdb/mnist/t10k-images-idx3-ubyte.gz\n",
            "Failed to download (trying next):\n",
            "HTTP Error 403: Forbidden\n",
            "\n",
            "Downloading https://ossci-datasets.s3.amazonaws.com/mnist/t10k-images-idx3-ubyte.gz\n",
            "Downloading https://ossci-datasets.s3.amazonaws.com/mnist/t10k-images-idx3-ubyte.gz to ./data/MNIST/raw/t10k-images-idx3-ubyte.gz\n"
          ]
        },
        {
          "output_type": "stream",
          "name": "stderr",
          "text": [
            "100%|██████████| 1648877/1648877 [00:01<00:00, 1261572.76it/s]\n"
          ]
        },
        {
          "output_type": "stream",
          "name": "stdout",
          "text": [
            "Extracting ./data/MNIST/raw/t10k-images-idx3-ubyte.gz to ./data/MNIST/raw\n",
            "\n",
            "Downloading http://yann.lecun.com/exdb/mnist/t10k-labels-idx1-ubyte.gz\n",
            "Failed to download (trying next):\n",
            "HTTP Error 403: Forbidden\n",
            "\n",
            "Downloading https://ossci-datasets.s3.amazonaws.com/mnist/t10k-labels-idx1-ubyte.gz\n",
            "Downloading https://ossci-datasets.s3.amazonaws.com/mnist/t10k-labels-idx1-ubyte.gz to ./data/MNIST/raw/t10k-labels-idx1-ubyte.gz\n"
          ]
        },
        {
          "output_type": "stream",
          "name": "stderr",
          "text": [
            "100%|██████████| 4542/4542 [00:00<00:00, 5063936.41it/s]"
          ]
        },
        {
          "output_type": "stream",
          "name": "stdout",
          "text": [
            "Extracting ./data/MNIST/raw/t10k-labels-idx1-ubyte.gz to ./data/MNIST/raw\n",
            "\n"
          ]
        },
        {
          "output_type": "stream",
          "name": "stderr",
          "text": [
            "\n"
          ]
        }
      ]
    },
    {
      "cell_type": "markdown",
      "source": [
        "MNIST는 손글씨 사진과 어떤 숫자를 의미하는지에 대한 label의 pair들로 구성되어있습니다.\n",
        "이 때, 우리는 PyTorch model을 사용할 것이기 때문에 손글씨 사진들을 모두 tensor로 변환해야합니다.\n",
        "이러한 부가적인 변환들은 `torchvision.transforms`에서 제공하고 있으며, `torchvision.datasets.MNIST`에서 `transform` 인자로 받을 수 있습니다.\n",
        "우리는 단순히 사진을 tensor로 바꾸고 싶기 때문에 `transforms.ToTensor()` transformation을 넘겨줍니다.\n",
        "\n",
        "다음은 전체 data의 개수와 첫 번째 data를 출력한 결과입니다."
      ],
      "metadata": {
        "id": "p-GqH7_ZjVMs"
      }
    },
    {
      "cell_type": "code",
      "source": [
        "from matplotlib import pyplot as plt\n",
        "\n",
        "\n",
        "print(len(trainset))\n",
        "print(trainset[0][0].shape, trainset[0][1])\n",
        "plt.imshow(trainset[0][0][0], cmap='gray')"
      ],
      "metadata": {
        "colab": {
          "base_uri": "https://localhost:8080/",
          "height": 484
        },
        "id": "Zsp3sHmojyhT",
        "outputId": "f4abebd3-600e-4e3c-f585-96a4ea27940c"
      },
      "execution_count": null,
      "outputs": [
        {
          "output_type": "stream",
          "name": "stdout",
          "text": [
            "60000\n",
            "torch.Size([1, 28, 28]) 5\n"
          ]
        },
        {
          "output_type": "execute_result",
          "data": {
            "text/plain": [
              "<matplotlib.image.AxesImage at 0x7ac50da59720>"
            ]
          },
          "metadata": {},
          "execution_count": 3
        },
        {
          "output_type": "display_data",
          "data": {
            "text/plain": [
              "<Figure size 640x480 with 1 Axes>"
            ],
            "image/png": "[encoded data removed]"
          },
          "metadata": {}
        }
      ]
    },
    {
      "cell_type": "markdown",
      "source": [
        "첫 번째 출력결과를 통해 우리는 6만장의 손글씨 data가 있는 것을 알 수 있습니다.\n",
        "그리고 두 번째 출력결과를 통해 첫 번째 data의 shape은 (1, 28, 28)이고 5라는 숫자를 쓴 사진이라는 것을 알 수 있습니다.\n",
        "마지막으로 `plt.imshow`를 통해 visualize 했을 때 5라는 숫자가 나오는 것을 알 수 있습니다.\n",
        "\n",
        "다음은 SGD를 위해 dataset을 여러 개의 batch로 나누는 과정을 PyTorch로 구현한 모습입니다."
      ],
      "metadata": {
        "id": "udm8wDBsi301"
      }
    },
    {
      "cell_type": "code",
      "source": [
        "batch_size = 64\n",
        "\n",
        "trainloader = torch.utils.data.DataLoader(\n",
        "    trainset,\n",
        "    batch_size=batch_size,\n",
        "    shuffle=True\n",
        ")"
      ],
      "metadata": {
        "id": "UxKu3kA2i5WH"
      },
      "execution_count": null,
      "outputs": []
    },
    {
      "cell_type": "markdown",
      "source": [
        "PyTorch에서는 `DataLoader`가 dataset을 인자로 받아 batch로 나눠줍니다.\n",
        "부가적으로 `batch_size`라는 인자를 통해 batch size를 받고 있으며, `shuffle`이라는 인자를 통해 data들을 섞을지 결정해줍니다.\n",
        "우리는 SGD가 완전 랜덤으로 batch를 구성해야 잘 동작하는 것을 알고 있기 때문에 `shuffle`에 `True`를 넘겨주고 있습니다.\n",
        "\n",
        "다음은 첫 번째 batch를 출력한 모습입니다."
      ],
      "metadata": {
        "id": "z4Qyrm4WlzWt"
      }
    },
    {
      "cell_type": "code",
      "source": [
        "dataiter = iter(trainloader)\n",
        "images, labels = next(dataiter)\n",
        "print(images.shape, labels.shape)"
      ],
      "metadata": {
        "colab": {
          "base_uri": "https://localhost:8080/"
        },
        "id": "_Hd7XxyAvVNz",
        "outputId": "4890cbff-c324-44d3-f85c-16c7b4c59fcb"
      },
      "execution_count": null,
      "outputs": [
        {
          "output_type": "stream",
          "name": "stdout",
          "text": [
            "torch.Size([64, 1, 28, 28]) torch.Size([64])\n"
          ]
        }
      ]
    },
    {
      "cell_type": "markdown",
      "source": [
        "`images`는 첫 번째 batch의 image들이고 `labels`는 첫 번째 batch의 label들입니다.\n",
        "위에서 batch size를 64로 설정했기 때문에 총 64개의 image와 label들이 있어야 합니다.\n",
        "실제 shape 출력 결과를 보면 그렇다는 것을 알 수 있습니다.\n",
        "\n",
        "다음은 (n, 1, 28, 28) shape의 image를 입력받아 0~9 사이의 정수 하나를 출력하는 3-layer MLP를 구현합니다."
      ],
      "metadata": {
        "id": "h0ZY5mDimRUK"
      }
    },
    {
      "cell_type": "code",
      "source": [
        "from torch import nn\n",
        "\n",
        "\n",
        "class Model(nn.Module):\n",
        "  def __init__(self, input_dim, n_dim):\n",
        "    super().__init__()\n",
        "\n",
        "    self.layer1 = nn.Linear(input_dim, n_dim)\n",
        "    self.layer2 = nn.Linear(n_dim, n_dim)\n",
        "    self.layer3 = nn.Linear(n_dim, 1)\n",
        "\n",
        "    self.act = nn.ReLU()\n",
        "\n",
        "  def forward(self, x):\n",
        "    x = torch.flatten(x, start_dim=1)\n",
        "    x = self.act(self.layer1(x))\n",
        "    x = self.act(self.layer2(x))\n",
        "    x = self.act(self.layer3(x))\n",
        "\n",
        "    return x\n",
        "\n",
        "\n",
        "model = Model(28 * 28 * 1, 1024)"
      ],
      "metadata": {
        "id": "OLOA-ZGTuVVG"
      },
      "execution_count": null,
      "outputs": []
    },
    {
      "cell_type": "markdown",
      "source": [
        "이전의 2-layer MLP와 유사한 형태임을 알 수 있습니다.\n",
        "여기서 특이사항은 `forward`의 첫 번째 줄에 `torch.flatten`을 사용한다는 것입니다.\n",
        "`Linear`는 이전에도 봤다시피 (n, d) 형태의 shape을 입력받습니다.\n",
        "이미지는 (n, 1, 28, 28)이기 때문에 (n, 1 * 28 * 28)로 shape을 변환해야 선형 함수에 입력으로 주어줄 수 있게 됩니다.\n",
        "이 역할을 수행하는 것이 바로 `torch.flatten`입니다.\n",
        "우리는 첫 번째 shape인 n을 보존할 것이기 때문에 flatten할 차원은 `start_dim=1`로 넘겨주게 됩니다.\n",
        "\n",
        "다음은 gradient descent를 수행해줄 optimizer를 구현하는 모습입니다."
      ],
      "metadata": {
        "id": "tag1rNcwmnAr"
      }
    },
    {
      "cell_type": "code",
      "source": [
        "from torch.optim import SGD\n",
        "\n",
        "lr = 0.001\n",
        "model = model.to('cuda')\n",
        "\n",
        "optimizer = SGD(model.parameters(), lr=lr)"
      ],
      "metadata": {
        "id": "ypS0TcOlvBhZ"
      },
      "execution_count": null,
      "outputs": []
    },
    {
      "cell_type": "markdown",
      "source": [
        "이전 코드와 거의 똑같습니다. 다른 점은 `model.to('cuda')` 코드를 통해 우리가 구현한 model을 GPU로 옮긴 것입니다.\n",
        "MNIST 부터는 모델과 data가 커지면서 훨씬 많은 행렬 연산이 이루어지기 때문에 GPU를 활용하는 것이 빠릅니다.\n",
        "\n",
        "다음은 model을 MNIST에 학습하는 코드입니다."
      ],
      "metadata": {
        "id": "5PooeOKMnRfZ"
      }
    },
    {
      "cell_type": "code",
      "source": [
        "n_epochs = 100\n",
        "\n",
        "for epoch in range(n_epochs):\n",
        "  total_loss = 0.\n",
        "  for data in trainloader:\n",
        "    model.zero_grad()\n",
        "    inputs, labels = data\n",
        "    inputs, labels = inputs.to('cuda'), labels.to('cuda')\n",
        "\n",
        "    preds = model(inputs)\n",
        "    loss = (preds[:, 0] - labels).pow(2).mean()\n",
        "    loss.backward()\n",
        "    optimizer.step()\n",
        "\n",
        "    total_loss += loss.item()\n",
        "\n",
        "  print(f\"Epoch {epoch:3d} | Loss: {total_loss}\")"
      ],
      "metadata": {
        "colab": {
          "base_uri": "https://localhost:8080/"
        },
        "id": "TryX1hewvNiB",
        "outputId": "4e4a9282-d49a-40ff-c26c-d00fb7c0af79"
      },
      "execution_count": null,
      "outputs": [
        {
          "output_type": "stream",
          "name": "stdout",
          "text": [
            "Epoch   0 | Loss: 4609.736693739891\n",
            "Epoch   1 | Loss: 2522.893892765045\n",
            "Epoch   2 | Loss: 1807.6151924729347\n",
            "Epoch   3 | Loss: 1422.2451617121696\n",
            "Epoch   4 | Loss: 1195.491718918085\n",
            "Epoch   5 | Loss: 1053.6574390232563\n",
            "Epoch   6 | Loss: 952.1634658575058\n",
            "Epoch   7 | Loss: 879.042916238308\n",
            "Epoch   8 | Loss: 818.7386544644833\n",
            "Epoch   9 | Loss: 771.1778815686703\n",
            "Epoch  10 | Loss: 729.5409344732761\n",
            "Epoch  11 | Loss: 693.3726135194302\n",
            "Epoch  12 | Loss: 660.9100622683764\n",
            "Epoch  13 | Loss: 631.16512799263\n",
            "Epoch  14 | Loss: 605.9077615588903\n",
            "Epoch  15 | Loss: 580.5695589482784\n",
            "Epoch  16 | Loss: 559.1079169213772\n",
            "Epoch  17 | Loss: 541.1392047703266\n",
            "Epoch  18 | Loss: 519.3692178875208\n",
            "Epoch  19 | Loss: 500.82538667321205\n",
            "Epoch  20 | Loss: 484.6212624460459\n",
            "Epoch  21 | Loss: 470.3438350260258\n",
            "Epoch  22 | Loss: 456.8827604204416\n",
            "Epoch  23 | Loss: 441.1874012351036\n",
            "Epoch  24 | Loss: 427.9177328199148\n",
            "Epoch  25 | Loss: 418.84781112521887\n",
            "Epoch  26 | Loss: 403.242155469954\n",
            "Epoch  27 | Loss: 395.3142776787281\n",
            "Epoch  28 | Loss: 382.6673086434603\n",
            "Epoch  29 | Loss: 374.05788423120975\n",
            "Epoch  30 | Loss: 360.62524054944515\n",
            "Epoch  31 | Loss: 352.69083581864834\n",
            "Epoch  32 | Loss: 345.4943906068802\n",
            "Epoch  33 | Loss: 338.7972128391266\n",
            "Epoch  34 | Loss: 329.4440211430192\n",
            "Epoch  35 | Loss: 320.39680843800306\n",
            "Epoch  36 | Loss: 314.21582168340683\n",
            "Epoch  37 | Loss: 306.2770227789879\n",
            "Epoch  38 | Loss: 303.72460044920444\n",
            "Epoch  39 | Loss: 292.94002268463373\n",
            "Epoch  40 | Loss: 295.8031967058778\n",
            "Epoch  41 | Loss: 280.26208566874266\n",
            "Epoch  42 | Loss: 276.88806407153606\n",
            "Epoch  43 | Loss: 271.96962037682533\n",
            "Epoch  44 | Loss: 266.89515794813633\n",
            "Epoch  45 | Loss: 257.6780180186033\n",
            "Epoch  46 | Loss: 254.68605330213904\n",
            "Epoch  47 | Loss: 250.41173614561558\n",
            "Epoch  48 | Loss: 248.17539255321026\n",
            "Epoch  49 | Loss: 238.68536315858364\n",
            "Epoch  50 | Loss: 235.99806959554553\n",
            "Epoch  51 | Loss: 231.36311244219542\n",
            "Epoch  52 | Loss: 229.33977166563272\n",
            "Epoch  53 | Loss: 222.23165318369865\n",
            "Epoch  54 | Loss: 218.58437288552523\n",
            "Epoch  55 | Loss: 216.269698895514\n",
            "Epoch  56 | Loss: 209.04173939675093\n",
            "Epoch  57 | Loss: 207.3422417640686\n",
            "Epoch  58 | Loss: 200.7441685795784\n",
            "Epoch  59 | Loss: 203.2649252526462\n",
            "Epoch  60 | Loss: 195.05001202970743\n",
            "Epoch  61 | Loss: 191.17457691207528\n",
            "Epoch  62 | Loss: 191.73974396660924\n",
            "Epoch  63 | Loss: 186.1954483166337\n",
            "Epoch  64 | Loss: 189.32784790545702\n",
            "Epoch  65 | Loss: 176.1417545862496\n",
            "Epoch  66 | Loss: 181.9956831149757\n",
            "Epoch  67 | Loss: 172.64514769241214\n",
            "Epoch  68 | Loss: 172.3534464687109\n",
            "Epoch  69 | Loss: 174.50871378555894\n",
            "Epoch  70 | Loss: 163.98258988931775\n",
            "Epoch  71 | Loss: 163.3156099319458\n",
            "Epoch  72 | Loss: 157.24372788146138\n",
            "Epoch  73 | Loss: 162.84928492084146\n",
            "Epoch  74 | Loss: 153.57645213231444\n",
            "Epoch  75 | Loss: 154.7535231076181\n",
            "Epoch  76 | Loss: 160.1526846140623\n",
            "Epoch  77 | Loss: 148.15953497216105\n",
            "Epoch  78 | Loss: 149.2102880626917\n",
            "Epoch  79 | Loss: 144.13579262793064\n",
            "Epoch  80 | Loss: 138.15702206268907\n",
            "Epoch  81 | Loss: 141.20063373073936\n",
            "Epoch  82 | Loss: 144.37179778516293\n",
            "Epoch  83 | Loss: 128.6758521720767\n",
            "Epoch  84 | Loss: 142.71830003336072\n",
            "Epoch  85 | Loss: 136.2892357558012\n",
            "Epoch  86 | Loss: 127.90936173126101\n",
            "Epoch  87 | Loss: 135.5334329083562\n",
            "Epoch  88 | Loss: 124.91956517100334\n",
            "Epoch  89 | Loss: 123.99651802331209\n",
            "Epoch  90 | Loss: 116.14115965738893\n",
            "Epoch  91 | Loss: 124.12338911741972\n",
            "Epoch  92 | Loss: 118.03577001020312\n",
            "Epoch  93 | Loss: 121.34427617490292\n",
            "Epoch  94 | Loss: 117.30015990883112\n",
            "Epoch  95 | Loss: 111.83482011780143\n",
            "Epoch  96 | Loss: 116.09908801689744\n",
            "Epoch  97 | Loss: 111.15563138574362\n",
            "Epoch  98 | Loss: 109.10213699564338\n",
            "Epoch  99 | Loss: 108.87472104653716\n"
          ]
        }
      ]
    },
    {
      "cell_type": "markdown",
      "source": [
        "출력 결과를 보면 잘 수렴하는 것을 볼 수 있습니다.\n",
        "이전 구현과 다른 점은 다음 두 가지입니다.\n",
        "- `for data in trainloader`를 통해 batch들을 iterate하면서 model을 학습합니다.\n",
        "- `inputs, labels = inputs.to('cuda'), labels.to('cuda')`를 통해 model의 입력으로 들어가는 tensor들을 GPU로 보냅니다.\n",
        "\n",
        "마지막으로 첫 번째 data에 대한 예측 결과를 살펴봅시다."
      ],
      "metadata": {
        "id": "YRDcptrqniX7"
      }
    },
    {
      "cell_type": "code",
      "source": [
        "idx = 0\n",
        "\n",
        "x = trainset[idx][0][None]  # (1, 1, 28, 28)\n",
        "x = x.to('cuda')\n",
        "\n",
        "print(model(x))\n",
        "print(trainset[idx][1])"
      ],
      "metadata": {
        "id": "Zct0ssSKwjt1",
        "colab": {
          "base_uri": "https://localhost:8080/"
        },
        "outputId": "4a8d7062-1a43-4522-895e-cfebb9c02cdb"
      },
      "execution_count": null,
      "outputs": [
        {
          "output_type": "stream",
          "name": "stdout",
          "text": [
            "tensor([[4.6796]], device='cuda:0', grad_fn=<ReluBackward0>)\n",
            "5\n"
          ]
        }
      ]
    },
    {
      "cell_type": "markdown",
      "source": [
        "여기서 idx를 조정하여 다른 data에 대한 출력 결과도 볼 수 있습니다.\n",
        "예측 결과를 보시면 아직 성능이 그렇게 좋지 않은 것을 알 수 있습니다."
      ],
      "metadata": {
        "id": "qzgSOrMsoZ2z"
      }
    },
    {
      "cell_type": "code",
      "source": [],
      "metadata": {
        "id": "d6M4SpWQoML9"
      },
      "execution_count": null,
      "outputs": []
    },
    {
      "cell_type": "markdown",
      "source": [
        "# 기본과제"
      ],
      "metadata": {
        "id": "q9fh5R0FdymS"
      }
    },
    {
      "cell_type": "markdown",
      "source": [
        "\n",
        "- [x]  Test data 준비하기\n",
        "    - Test data는 MNIST의 train data를 load하는 코드에서 `train=False`로 두면 됩니다.\n",
        "    - Train data와 마찬가지로 test data에 대한 data loader를 생성해주시면 됩니다(batch size는 동일하게 적용).\n",
        "        - Test data는 랜덤하게 섞일 필요가 없기 때문에 `shuffle=False`로 설정합니다."
      ],
      "metadata": {
        "id": "aliNRR93c-QZ"
      }
    },
    {
      "cell_type": "code",
      "source": [
        "testset = torchvision.datasets.MNIST(\n",
        "    root='./data',\n",
        "    train=False,\n",
        "    download=True,\n",
        "    transform=transform\n",
        ")\n",
        "\n",
        "testloader = torch.utils.data.DataLoader(\n",
        "    testset,\n",
        "    batch_size=batch_size,\n",
        "    shuffle=False\n",
        ")"
      ],
      "metadata": {
        "id": "AgGa2mE6d84k"
      },
      "execution_count": null,
      "outputs": []
    },
    {
      "cell_type": "markdown",
      "source": [
        "- [x]  `nn.CrossEntropyLoss` 적용하기\n",
        "    - 현재 코드는 regression model을 구현한 상태로, MSE를 loss로 사용하고 있습니다.\n",
        "    - 하지만 MNIST와 같은 분류 문제에서는 MSE는 적합하지 않습니다.\n",
        "        - MSE에 따르면 1에 해당하는 손글씨 이미지는 7에 해당하는 손글씨 이미지보다 0에 해당하는 손글씨 이미지가 더 가깝게 여겨집니다.\n",
        "        - 하지만 1은 실제로 0보다 7과 더 비슷하게 생겼습니다.\n",
        "    - 일반적으로 분류 문제는 MSE 대신 cross entropy loss를 사용합니다.\n",
        "    - PyTorch에서의 [cross entropy loss 문서](https://pytorch.org/docs/stable/generated/torch.nn.CrossEntropyLoss.html) 또는 [웹 자료](https://uumini.tistory.com/54)들을 통해 이해한 후, MSE를 대체하는 코드를 구현하시면 됩니다.\n",
        "        - 변경되어야 할 점은 2가지로 i) `Model`의 최종 output의 dimension과 ii) `loss` 계산 부분입니다."
      ],
      "metadata": {
        "id": "Ho9Oh5S0fITu"
      }
    },
    {
      "cell_type": "code",
      "source": [
        "# 1. 모델의 출력 차원 변경\n",
        "\n",
        "from torch import nn\n",
        "\n",
        "class Model(nn.Module):\n",
        "  def __init__(self, input_dim, n_dim):\n",
        "    super().__init__()\n",
        "\n",
        "    self.layer1 = nn.Linear(input_dim, n_dim)\n",
        "    self.layer2 = nn.Linear(n_dim, n_dim)\n",
        "    self.layer3 = nn.Linear(n_dim, 10) # 0 ~ 9 까지의 숫자로 분류할 것이므로, 분류할 클래스 수는 10\n",
        "\n",
        "    self.act = nn.ReLU()\n",
        "\n",
        "  def forward(self, x):\n",
        "    x = torch.flatten(x, start_dim=1)\n",
        "    x = self.act(self.layer1(x))\n",
        "    x = self.act(self.layer2(x))\n",
        "    x = self.layer3(x)\n",
        "\n",
        "    return x\n",
        "\n",
        "model_2 = Model(28 * 28 * 1, 1024)\n",
        "# Q. 은닉층의 차원은 1024 로 하는 것이 적절한 이유가 있을까?"
      ],
      "metadata": {
        "id": "B-GKvR5sggLy"
      },
      "execution_count": null,
      "outputs": []
    },
    {
      "cell_type": "code",
      "source": [
        "from torch.optim import SGD\n",
        "\n",
        "lr = 0.001\n",
        "model_2 = model_2.to('cuda')\n",
        "\n",
        "# optimizer 선택\n",
        "optimizer = SGD(model_2.parameters(), lr=lr)\n",
        "\n",
        "# 손실함수 선택\n",
        "criterion = nn.CrossEntropyLoss() # Cross Entropy Loss 는 내부적으로 softmax 로 변환하는 과정을 포함\n",
        "\n",
        "n_epochs = 100\n",
        "\n",
        "for epoch in range(n_epochs):\n",
        "\n",
        "  total_loss = 0.\n",
        "  for data in trainloader:\n",
        "    model_2.zero_grad()\n",
        "\n",
        "    inputs, labels = data\n",
        "    inputs, labels = inputs.to('cuda'), labels.to('cuda')\n",
        "\n",
        "    preds = model_2(inputs)\n",
        "    loss = criterion(preds, labels)\n",
        "\n",
        "    loss.backward()\n",
        "    optimizer.step()\n",
        "\n",
        "    total_loss += loss.item()\n",
        "\n",
        "  print(f\"Epoch {epoch:3d} | Loss: {total_loss}\")"
      ],
      "metadata": {
        "colab": {
          "base_uri": "https://localhost:8080/"
        },
        "id": "wiyK95NQmA5P",
        "outputId": "f0b71d60-8b1b-4d84-d872-21f5eb0c3860"
      },
      "execution_count": null,
      "outputs": [
        {
          "output_type": "stream",
          "name": "stdout",
          "text": [
            "Epoch   0 | Loss: 2129.6247897148132\n",
            "Epoch   1 | Loss: 2057.4296646118164\n",
            "Epoch   2 | Loss: 1939.3110617399216\n",
            "Epoch   3 | Loss: 1735.7920867204666\n",
            "Epoch   4 | Loss: 1438.385588645935\n",
            "Epoch   5 | Loss: 1128.7175089716911\n",
            "Epoch   6 | Loss: 898.3891317844391\n",
            "Epoch   7 | Loss: 749.6204717159271\n",
            "Epoch   8 | Loss: 652.2938196361065\n",
            "Epoch   9 | Loss: 584.740715354681\n",
            "Epoch  10 | Loss: 535.6166769862175\n",
            "Epoch  11 | Loss: 498.2350735962391\n",
            "Epoch  12 | Loss: 468.79651510715485\n",
            "Epoch  13 | Loss: 444.9579499512911\n",
            "Epoch  14 | Loss: 425.48983094096184\n",
            "Epoch  15 | Loss: 409.267250880599\n",
            "Epoch  16 | Loss: 395.4759897887707\n",
            "Epoch  17 | Loss: 383.56817977130413\n",
            "Epoch  18 | Loss: 373.23099306225777\n",
            "Epoch  19 | Loss: 364.2816619873047\n",
            "Epoch  20 | Loss: 356.1275096833706\n",
            "Epoch  21 | Loss: 348.96450117230415\n",
            "Epoch  22 | Loss: 342.4804094135761\n",
            "Epoch  23 | Loss: 336.6176057755947\n",
            "Epoch  24 | Loss: 331.29969008266926\n",
            "Epoch  25 | Loss: 326.26980759203434\n",
            "Epoch  26 | Loss: 321.4680659994483\n",
            "Epoch  27 | Loss: 317.19997967779636\n",
            "Epoch  28 | Loss: 312.88268008828163\n",
            "Epoch  29 | Loss: 309.2260123193264\n",
            "Epoch  30 | Loss: 305.41689421981573\n",
            "Epoch  31 | Loss: 301.95565462857485\n",
            "Epoch  32 | Loss: 298.6459489315748\n",
            "Epoch  33 | Loss: 295.4140891060233\n",
            "Epoch  34 | Loss: 292.4444460943341\n",
            "Epoch  35 | Loss: 289.3550775870681\n",
            "Epoch  36 | Loss: 286.62142312526703\n",
            "Epoch  37 | Loss: 283.9298520758748\n",
            "Epoch  38 | Loss: 281.21660926938057\n",
            "Epoch  39 | Loss: 278.6890063509345\n",
            "Epoch  40 | Loss: 276.112642377615\n",
            "Epoch  41 | Loss: 273.6945566534996\n",
            "Epoch  42 | Loss: 271.43390157073736\n",
            "Epoch  43 | Loss: 269.1134946793318\n",
            "Epoch  44 | Loss: 266.67722749710083\n",
            "Epoch  45 | Loss: 264.57330402731895\n",
            "Epoch  46 | Loss: 262.6404482871294\n",
            "Epoch  47 | Loss: 260.3821781426668\n",
            "Epoch  48 | Loss: 258.2780436575413\n",
            "Epoch  49 | Loss: 256.3068893402815\n",
            "Epoch  50 | Loss: 254.34712944179773\n",
            "Epoch  51 | Loss: 252.35523876547813\n",
            "Epoch  52 | Loss: 250.55929841846228\n",
            "Epoch  53 | Loss: 248.5864411070943\n",
            "Epoch  54 | Loss: 246.81052804738283\n",
            "Epoch  55 | Loss: 245.0393019169569\n",
            "Epoch  56 | Loss: 243.14283122867346\n",
            "Epoch  57 | Loss: 241.4315207079053\n",
            "Epoch  58 | Loss: 239.65193727612495\n",
            "Epoch  59 | Loss: 237.86768140643835\n",
            "Epoch  60 | Loss: 236.14780282601714\n",
            "Epoch  61 | Loss: 234.51459495723248\n",
            "Epoch  62 | Loss: 232.8568601720035\n",
            "Epoch  63 | Loss: 231.29705384746194\n",
            "Epoch  64 | Loss: 229.63387367501855\n",
            "Epoch  65 | Loss: 228.0134210959077\n",
            "Epoch  66 | Loss: 226.43073242157698\n",
            "Epoch  67 | Loss: 224.7723912000656\n",
            "Epoch  68 | Loss: 223.3194912970066\n",
            "Epoch  69 | Loss: 221.80026195943356\n",
            "Epoch  70 | Loss: 220.29297847673297\n",
            "Epoch  71 | Loss: 218.84374987706542\n",
            "Epoch  72 | Loss: 217.2414751276374\n",
            "Epoch  73 | Loss: 215.8621711395681\n",
            "Epoch  74 | Loss: 214.43005264550447\n",
            "Epoch  75 | Loss: 213.08236055076122\n",
            "Epoch  76 | Loss: 211.5565923601389\n",
            "Epoch  77 | Loss: 210.13250486552715\n",
            "Epoch  78 | Loss: 208.89355559274554\n",
            "Epoch  79 | Loss: 207.31267791613936\n",
            "Epoch  80 | Loss: 206.046027071774\n",
            "Epoch  81 | Loss: 204.58346458151937\n",
            "Epoch  82 | Loss: 203.3530030809343\n",
            "Epoch  83 | Loss: 202.11781253293157\n",
            "Epoch  84 | Loss: 200.8673685081303\n",
            "Epoch  85 | Loss: 199.38952062278986\n",
            "Epoch  86 | Loss: 198.19034361466765\n",
            "Epoch  87 | Loss: 196.87672569975257\n",
            "Epoch  88 | Loss: 195.49329686537385\n",
            "Epoch  89 | Loss: 194.4375161230564\n",
            "Epoch  90 | Loss: 193.04062020406127\n",
            "Epoch  91 | Loss: 191.83041691035032\n",
            "Epoch  92 | Loss: 190.6248783878982\n",
            "Epoch  93 | Loss: 189.45999326184392\n",
            "Epoch  94 | Loss: 188.21158108487725\n",
            "Epoch  95 | Loss: 187.00395798310637\n",
            "Epoch  96 | Loss: 185.820231474936\n",
            "Epoch  97 | Loss: 184.77870507910848\n",
            "Epoch  98 | Loss: 183.53736433014274\n",
            "Epoch  99 | Loss: 182.39561355113983\n"
          ]
        }
      ]
    },
    {
      "cell_type": "markdown",
      "source": [
        "- [x]  학습을 진행한 후, epoch에 따른 model의 train과 test data에 대한 정확도 plot하기\n",
        "    - 다음 조건들 아래에서 학습을 진행하면 됩니다.\n",
        "        - `n_epochs`=100, `batch_size`=256, `lr`=0.001.\n",
        "    - 어떤 dataloader에 대한 model의 정확도를 측정하는 코드는 다음 함수를 사용하시면 됩니다:\n",
        "        \n",
        "        ```python\n",
        "        def accuracy(model, dataloader):\n",
        "          cnt = 0\n",
        "          acc = 0\n",
        "        \n",
        "          for data in dataloader:\n",
        "            inputs, labels = data\n",
        "            inputs, labels = inputs.to('cuda'), labels.to('cuda')\n",
        "        \n",
        "            preds = model(inputs)\n",
        "            preds = torch.argmax(preds, dim=-1)\n",
        "        \n",
        "            cnt += labels.shape[0]\n",
        "            acc += (labels == preds).sum().item()\n",
        "        \n",
        "          return acc / cnt\n",
        "        ```\n",
        "        \n",
        "    - 추가적으로 구현되어야 하는 부분들을 요약하면 다음과 같습니다:\n",
        "        - 매 epoch가 끝난 뒤의 model의 `trainloader`와 `testloader`에 대한 정확도를 각각 list로 저장해둡니다.\n",
        "        - Epoch에 따른 train과 test data에 대한 model의 정확도를 다음 코드를 사용하여 plot합니다:\n",
        "            \n",
        "            ```python\n",
        "            def plot_acc(train_accs, test_accs, label1='train', label2='test'):\n",
        "              x = np.arange(len(train_accs))\n",
        "            \n",
        "              plt.plot(x, train_accs, label=label1)\n",
        "              plt.plot(x, test_accs, label=label2)\n",
        "              plt.legend()\n",
        "              plt.show()\n",
        "            ```"
      ],
      "metadata": {
        "id": "gBVOCMhurB11"
      }
    },
    {
      "cell_type": "code",
      "source": [
        "import torch\n",
        "import torch.nn as nn\n",
        "import torch.optim as optim\n",
        "from torch.utils.data import DataLoader\n",
        "import matplotlib.pyplot as plt\n",
        "import numpy as np\n",
        "\n",
        "# 학습을 위한 파라미터 설정\n",
        "n_epochs = 100\n",
        "batch_size = 256\n",
        "lr = 0.001\n",
        "\n",
        "# Dataloader 설정 (batch size 변경된 것으로 반영!)\n",
        "trainloader = DataLoader(trainset, batch_size=batch_size, shuffle=True)\n",
        "testloader = DataLoader(testset, batch_size=batch_size, shuffle=False)\n",
        "\n",
        "# 손실함수, 옵티마이저 정의\n",
        "criterion = nn.CrossEntropyLoss()\n",
        "optimizer = optim.SGD(model_2.parameters(), lr=lr)\n",
        "\n",
        "# 정확도 측정 함수\n",
        "def accuracy(model, dataloader):\n",
        "  cnt = 0\n",
        "  acc = 0\n",
        "\n",
        "  model.eval() # 평가모드로 변경 -> dropout, batchnorm 과 같은 동작을 사용하지 않도록\n",
        "  with torch.no_grad(): # gradient 계산을 할 필요 없으므로 비활성화 (리소스 절약)\n",
        "    for data in dataloader:\n",
        "      inputs, labels = data\n",
        "      inputs, labels = inputs.to('cuda'), labels.to('cuda')\n",
        "\n",
        "      preds = model(inputs)\n",
        "      preds = torch.argmax(preds, dim=-1) # 각 샘플에 대해 가장 높은 점수를 가진 클래스의 인덱스를 반환하는 함수\n",
        "\n",
        "      cnt += labels.shape[0]\n",
        "      acc += (labels == preds).sum().item() # label 대로 정확히 맞춘 개수\n",
        "\n",
        "    model.train()\n",
        "    return acc / cnt\n",
        "\n",
        "# 정확도 플롯 함수\n",
        "def plot_acc(train_accs, test_accs, label1='train', label2='test'):\n",
        "  x = np.arange(len(train_accs))\n",
        "\n",
        "  plt.plot(x, train_accs, label=label1)\n",
        "  plt.plot(x, test_accs, label=label2)\n",
        "  plt.xlabel('Epoch')\n",
        "  plt.ylabel('Accuracy')\n",
        "  plt.legend()\n",
        "  plt.show()\n",
        "\n"
      ],
      "metadata": {
        "id": "8S57xj8Krj-p"
      },
      "execution_count": null,
      "outputs": []
    },
    {
      "cell_type": "code",
      "source": [
        "# 정확도를 저장할 리스트\n",
        "train_accs = []\n",
        "test_accs = []\n",
        "\n",
        "# 매 epoch 마다 train, test 에 대해 정확도 측정\n",
        "for epoch in range(n_epochs):\n",
        "  total_loss = 0.\n",
        "\n",
        "  for data in trainloader:\n",
        "    model_2.zero_grad()\n",
        "\n",
        "    inputs, labels = data\n",
        "    inputs, labels = inputs.to('cuda'), labels.to('cuda')\n",
        "\n",
        "    preds = model_2(inputs)\n",
        "    loss = criterion(preds, labels)\n",
        "\n",
        "    loss.backward()\n",
        "    optimizer.step()\n",
        "\n",
        "    total_loss += loss.item()\n",
        "\n",
        "  train_acc = accuracy(model_2, trainloader)\n",
        "  test_acc = accuracy(model_2, testloader)\n",
        "\n",
        "  train_accs.append(train_acc)\n",
        "  test_accs.append(test_acc)\n",
        "\n",
        "  print(f\"Epoch: {epoch+1:3d}/{n_epochs} | Loss: {total_loss:.4f} | Train Acc: {train_acc:.4f} | Test Acc: {test_acc:.4f}\")\n",
        "\n",
        "# 정확도 플롯 그리기\n",
        "plot_acc(train_accs, test_accs)\n"
      ],
      "metadata": {
        "colab": {
          "base_uri": "https://localhost:8080/",
          "height": 1000
        },
        "id": "45iKUW8GujbA",
        "outputId": "bb753abc-2844-4070-e07a-914e02a01cbe"
      },
      "execution_count": null,
      "outputs": [
        {
          "output_type": "stream",
          "name": "stdout",
          "text": [
            "Epoch:   1/100 | Loss: 32.7662 | Train Acc: 0.9605 | Test Acc: 0.9576\n",
            "Epoch:   2/100 | Loss: 32.7272 | Train Acc: 0.9606 | Test Acc: 0.9576\n",
            "Epoch:   3/100 | Loss: 32.6904 | Train Acc: 0.9606 | Test Acc: 0.9577\n",
            "Epoch:   4/100 | Loss: 32.5854 | Train Acc: 0.9606 | Test Acc: 0.9577\n",
            "Epoch:   5/100 | Loss: 32.5503 | Train Acc: 0.9608 | Test Acc: 0.9578\n",
            "Epoch:   6/100 | Loss: 32.5534 | Train Acc: 0.9608 | Test Acc: 0.9578\n",
            "Epoch:   7/100 | Loss: 32.4714 | Train Acc: 0.9609 | Test Acc: 0.9580\n",
            "Epoch:   8/100 | Loss: 32.4285 | Train Acc: 0.9609 | Test Acc: 0.9580\n",
            "Epoch:   9/100 | Loss: 32.4420 | Train Acc: 0.9609 | Test Acc: 0.9578\n",
            "Epoch:  10/100 | Loss: 32.3817 | Train Acc: 0.9609 | Test Acc: 0.9580\n",
            "Epoch:  11/100 | Loss: 32.3705 | Train Acc: 0.9611 | Test Acc: 0.9580\n",
            "Epoch:  12/100 | Loss: 32.2560 | Train Acc: 0.9612 | Test Acc: 0.9578\n",
            "Epoch:  13/100 | Loss: 32.1986 | Train Acc: 0.9612 | Test Acc: 0.9581\n",
            "Epoch:  14/100 | Loss: 32.1588 | Train Acc: 0.9612 | Test Acc: 0.9580\n",
            "Epoch:  15/100 | Loss: 32.1047 | Train Acc: 0.9614 | Test Acc: 0.9579\n",
            "Epoch:  16/100 | Loss: 32.1143 | Train Acc: 0.9614 | Test Acc: 0.9580\n",
            "Epoch:  17/100 | Loss: 32.0472 | Train Acc: 0.9615 | Test Acc: 0.9581\n",
            "Epoch:  18/100 | Loss: 31.9753 | Train Acc: 0.9615 | Test Acc: 0.9582\n",
            "Epoch:  19/100 | Loss: 31.9445 | Train Acc: 0.9616 | Test Acc: 0.9580\n",
            "Epoch:  20/100 | Loss: 31.8896 | Train Acc: 0.9617 | Test Acc: 0.9581\n",
            "Epoch:  21/100 | Loss: 31.8714 | Train Acc: 0.9617 | Test Acc: 0.9581\n",
            "Epoch:  22/100 | Loss: 31.8428 | Train Acc: 0.9618 | Test Acc: 0.9584\n",
            "Epoch:  23/100 | Loss: 31.8135 | Train Acc: 0.9619 | Test Acc: 0.9581\n",
            "Epoch:  24/100 | Loss: 31.7632 | Train Acc: 0.9620 | Test Acc: 0.9583\n",
            "Epoch:  25/100 | Loss: 31.6673 | Train Acc: 0.9620 | Test Acc: 0.9582\n",
            "Epoch:  26/100 | Loss: 31.6790 | Train Acc: 0.9621 | Test Acc: 0.9582\n",
            "Epoch:  27/100 | Loss: 31.6496 | Train Acc: 0.9621 | Test Acc: 0.9582\n",
            "Epoch:  28/100 | Loss: 31.5903 | Train Acc: 0.9620 | Test Acc: 0.9583\n",
            "Epoch:  29/100 | Loss: 31.5540 | Train Acc: 0.9620 | Test Acc: 0.9584\n",
            "Epoch:  30/100 | Loss: 31.4999 | Train Acc: 0.9623 | Test Acc: 0.9582\n",
            "Epoch:  31/100 | Loss: 31.5021 | Train Acc: 0.9623 | Test Acc: 0.9582\n",
            "Epoch:  32/100 | Loss: 31.4411 | Train Acc: 0.9623 | Test Acc: 0.9587\n",
            "Epoch:  33/100 | Loss: 31.3664 | Train Acc: 0.9623 | Test Acc: 0.9584\n",
            "Epoch:  34/100 | Loss: 31.4177 | Train Acc: 0.9624 | Test Acc: 0.9584\n",
            "Epoch:  35/100 | Loss: 31.2731 | Train Acc: 0.9624 | Test Acc: 0.9583\n",
            "Epoch:  36/100 | Loss: 31.2415 | Train Acc: 0.9625 | Test Acc: 0.9583\n",
            "Epoch:  37/100 | Loss: 31.2920 | Train Acc: 0.9626 | Test Acc: 0.9584\n",
            "Epoch:  38/100 | Loss: 31.2055 | Train Acc: 0.9625 | Test Acc: 0.9585\n",
            "Epoch:  39/100 | Loss: 31.1273 | Train Acc: 0.9626 | Test Acc: 0.9585\n",
            "Epoch:  40/100 | Loss: 31.0988 | Train Acc: 0.9627 | Test Acc: 0.9587\n",
            "Epoch:  41/100 | Loss: 31.0273 | Train Acc: 0.9627 | Test Acc: 0.9584\n",
            "Epoch:  42/100 | Loss: 31.0494 | Train Acc: 0.9627 | Test Acc: 0.9584\n",
            "Epoch:  43/100 | Loss: 31.0015 | Train Acc: 0.9628 | Test Acc: 0.9586\n",
            "Epoch:  44/100 | Loss: 30.9194 | Train Acc: 0.9629 | Test Acc: 0.9585\n",
            "Epoch:  45/100 | Loss: 30.9129 | Train Acc: 0.9629 | Test Acc: 0.9586\n",
            "Epoch:  46/100 | Loss: 30.8457 | Train Acc: 0.9630 | Test Acc: 0.9588\n",
            "Epoch:  47/100 | Loss: 30.7920 | Train Acc: 0.9631 | Test Acc: 0.9589\n",
            "Epoch:  48/100 | Loss: 30.8109 | Train Acc: 0.9632 | Test Acc: 0.9590\n",
            "Epoch:  49/100 | Loss: 30.7616 | Train Acc: 0.9632 | Test Acc: 0.9589\n",
            "Epoch:  50/100 | Loss: 30.6587 | Train Acc: 0.9632 | Test Acc: 0.9588\n",
            "Epoch:  51/100 | Loss: 30.7017 | Train Acc: 0.9633 | Test Acc: 0.9589\n",
            "Epoch:  52/100 | Loss: 30.6122 | Train Acc: 0.9633 | Test Acc: 0.9592\n",
            "Epoch:  53/100 | Loss: 30.5988 | Train Acc: 0.9633 | Test Acc: 0.9590\n",
            "Epoch:  54/100 | Loss: 30.5780 | Train Acc: 0.9635 | Test Acc: 0.9591\n",
            "Epoch:  55/100 | Loss: 30.4844 | Train Acc: 0.9635 | Test Acc: 0.9591\n",
            "Epoch:  56/100 | Loss: 30.5176 | Train Acc: 0.9634 | Test Acc: 0.9591\n",
            "Epoch:  57/100 | Loss: 30.4270 | Train Acc: 0.9636 | Test Acc: 0.9592\n",
            "Epoch:  58/100 | Loss: 30.3560 | Train Acc: 0.9636 | Test Acc: 0.9592\n",
            "Epoch:  59/100 | Loss: 30.3706 | Train Acc: 0.9638 | Test Acc: 0.9595\n",
            "Epoch:  60/100 | Loss: 30.2919 | Train Acc: 0.9638 | Test Acc: 0.9596\n",
            "Epoch:  61/100 | Loss: 30.2522 | Train Acc: 0.9637 | Test Acc: 0.9597\n",
            "Epoch:  62/100 | Loss: 30.2734 | Train Acc: 0.9639 | Test Acc: 0.9595\n",
            "Epoch:  63/100 | Loss: 30.2104 | Train Acc: 0.9639 | Test Acc: 0.9597\n",
            "Epoch:  64/100 | Loss: 30.1807 | Train Acc: 0.9641 | Test Acc: 0.9596\n",
            "Epoch:  65/100 | Loss: 30.1495 | Train Acc: 0.9642 | Test Acc: 0.9594\n",
            "Epoch:  66/100 | Loss: 30.0579 | Train Acc: 0.9641 | Test Acc: 0.9599\n",
            "Epoch:  67/100 | Loss: 30.0037 | Train Acc: 0.9643 | Test Acc: 0.9598\n",
            "Epoch:  68/100 | Loss: 30.1349 | Train Acc: 0.9643 | Test Acc: 0.9597\n",
            "Epoch:  69/100 | Loss: 29.9739 | Train Acc: 0.9642 | Test Acc: 0.9600\n",
            "Epoch:  70/100 | Loss: 29.9296 | Train Acc: 0.9642 | Test Acc: 0.9599\n",
            "Epoch:  71/100 | Loss: 29.9175 | Train Acc: 0.9644 | Test Acc: 0.9602\n",
            "Epoch:  72/100 | Loss: 29.9221 | Train Acc: 0.9643 | Test Acc: 0.9602\n",
            "Epoch:  73/100 | Loss: 29.7918 | Train Acc: 0.9645 | Test Acc: 0.9600\n",
            "Epoch:  74/100 | Loss: 29.7583 | Train Acc: 0.9644 | Test Acc: 0.9604\n",
            "Epoch:  75/100 | Loss: 29.7636 | Train Acc: 0.9645 | Test Acc: 0.9604\n",
            "Epoch:  76/100 | Loss: 29.7112 | Train Acc: 0.9645 | Test Acc: 0.9603\n",
            "Epoch:  77/100 | Loss: 29.6802 | Train Acc: 0.9647 | Test Acc: 0.9601\n",
            "Epoch:  78/100 | Loss: 29.6644 | Train Acc: 0.9647 | Test Acc: 0.9604\n",
            "Epoch:  79/100 | Loss: 29.5747 | Train Acc: 0.9648 | Test Acc: 0.9603\n",
            "Epoch:  80/100 | Loss: 29.5473 | Train Acc: 0.9650 | Test Acc: 0.9606\n",
            "Epoch:  81/100 | Loss: 29.4776 | Train Acc: 0.9649 | Test Acc: 0.9605\n",
            "Epoch:  82/100 | Loss: 29.4519 | Train Acc: 0.9650 | Test Acc: 0.9605\n",
            "Epoch:  83/100 | Loss: 29.4416 | Train Acc: 0.9650 | Test Acc: 0.9604\n",
            "Epoch:  84/100 | Loss: 29.4036 | Train Acc: 0.9651 | Test Acc: 0.9609\n",
            "Epoch:  85/100 | Loss: 29.3574 | Train Acc: 0.9651 | Test Acc: 0.9609\n",
            "Epoch:  86/100 | Loss: 29.3102 | Train Acc: 0.9652 | Test Acc: 0.9610\n",
            "Epoch:  87/100 | Loss: 29.2570 | Train Acc: 0.9652 | Test Acc: 0.9609\n",
            "Epoch:  88/100 | Loss: 29.2554 | Train Acc: 0.9653 | Test Acc: 0.9607\n",
            "Epoch:  89/100 | Loss: 29.3118 | Train Acc: 0.9654 | Test Acc: 0.9611\n",
            "Epoch:  90/100 | Loss: 29.1341 | Train Acc: 0.9654 | Test Acc: 0.9610\n",
            "Epoch:  91/100 | Loss: 29.1096 | Train Acc: 0.9655 | Test Acc: 0.9611\n",
            "Epoch:  92/100 | Loss: 29.1321 | Train Acc: 0.9654 | Test Acc: 0.9611\n",
            "Epoch:  93/100 | Loss: 29.0284 | Train Acc: 0.9654 | Test Acc: 0.9608\n",
            "Epoch:  94/100 | Loss: 28.9858 | Train Acc: 0.9655 | Test Acc: 0.9613\n",
            "Epoch:  95/100 | Loss: 29.0283 | Train Acc: 0.9655 | Test Acc: 0.9615\n",
            "Epoch:  96/100 | Loss: 28.9788 | Train Acc: 0.9655 | Test Acc: 0.9615\n",
            "Epoch:  97/100 | Loss: 28.9013 | Train Acc: 0.9656 | Test Acc: 0.9613\n",
            "Epoch:  98/100 | Loss: 28.8518 | Train Acc: 0.9656 | Test Acc: 0.9616\n",
            "Epoch:  99/100 | Loss: 28.8651 | Train Acc: 0.9656 | Test Acc: 0.9614\n",
            "Epoch: 100/100 | Loss: 28.7730 | Train Acc: 0.9656 | Test Acc: 0.9615\n"
          ]
        },
        {
          "output_type": "display_data",
          "data": {
            "text/plain": [
              "<Figure size 640x480 with 1 Axes>"
            ],
            "image/png": "[encoded data removed]"
          },
          "metadata": {}
        }
      ]
    },
    {
      "cell_type": "markdown",
      "source": [
        "# 심화 과제\n",
        "\n",
        "Classification model을 MNIST에 적용한 코드에서 다음 부분들을 변경하거나 추가해주시면 됩니다:\n",
        "\n",
        "- [x]  Dataset 및 activation 함수 변경\n",
        "    - Dataset을 MNIST에서 [CIFAR10](https://pytorch.org/vision/stable/generated/torchvision.datasets.CIFAR10.html)으로 변경해줍니다.\n",
        "    - Activation 함수를 `nn.ReLU`에서 `nn.LeakyReLU`로 변경해줍니다.\n",
        "    - 학습 인자는 `n_epochs` = 50, `batch_size` = 256로 설정합니다."
      ],
      "metadata": {
        "id": "9_wtmUmgiS96"
      }
    },
    {
      "cell_type": "code",
      "source": [
        "import torch\n",
        "import torch.nn as nn\n",
        "import torch.optim as optim\n",
        "import torchvision\n",
        "import torchvision.transforms as transforms\n",
        "from torch.utils.data import DataLoader\n",
        "\n",
        "# CIFAR-10 데이터셋 로드\n",
        "transform = transforms.Compose([\n",
        "    transforms.ToTensor(),\n",
        "    transforms.Normalize((0.5, 0.5, 0.5), (0.5, 0.5, 0.5))\n",
        "])\n",
        "\n",
        "trainset = torchvision.datasets.CIFAR10(root='./data', train=True, download=True, transform=transform)\n",
        "testset = torchvision.datasets.CIFAR10(root='./data', train=False, download=True, transform=transform)\n",
        "\n",
        "# DataLoader 설정\n",
        "batch_size = 256\n",
        "trainloader = DataLoader(trainset, batch_size=batch_size, shuffle=True)\n",
        "testloader = DataLoader(testset, batch_size=batch_size, shuffle=False)\n",
        "\n",
        "# 모델: 활성화 함수를 변경(ReLU -> LeakyReLU)\n",
        "class Model_Leaky_ReLU(nn.Module):\n",
        "  def __init__(self, input_dim, n_dim):\n",
        "    super().__init__()\n",
        "\n",
        "    self.layer1 = nn.Linear(input_dim, n_dim)\n",
        "    self.layer2 = nn.Linear(n_dim, n_dim)\n",
        "    self.layer3 = nn.Linear(n_dim, 10) # 데이터셋이 10개 클래스로 분류될 것이므로 출력 차원은 10\n",
        "\n",
        "    # 활성화 함수\n",
        "    self.act = nn.LeakyReLU()\n",
        "\n",
        "  def forward(self, x):\n",
        "    x = torch.flatten(x, start_dim=1) # (n, 3, 32, 32) 로 들어온 입력 x 에 대해 (n, 3 * 32 * 32) 의 2차원으로 만들어주기 (Linear 가 이런 형태의 입력을 받을 수 있어서라고 했던 듯)\n",
        "    x = self.act(self.layer1(x))\n",
        "    x = self.act(self.layer2(x))\n",
        "    x = self.layer3(x)\n",
        "\n",
        "    return x\n",
        "\n",
        "model = Model_Leaky_ReLU(3 * 32 * 32, 1024) # 입력 차원 수는 3 * 32 * 32 이고, 동시에 중간 은닉층(?) 의 차원수는 1024 로 설정..\n",
        "\n",
        "# 학습에 관한 설정\n",
        "n_epochs = 50\n",
        "lr = 0.001\n",
        "\n",
        "model = model.to('cuda') # GPU 사용\n",
        "criterion = nn.CrossEntropyLoss() # 크로스 엔트로피 를 손실함수로 사용해야 분류 문제에 적합하다고! - 왜?\n",
        "optimizer = optim.SGD(model.parameters(), lr=lr)\n",
        "\n",
        "# 정확도 함수 다시 써보기\n",
        "def accuracy(model, dataloader):\n",
        "  cnt = 0\n",
        "  acc = 0\n",
        "\n",
        "  model.eval()\n",
        "  with torch.no_grad(): # gradient 계산을 할 필요 없으므로 비활성화 (리소스 절약)\n",
        "    for data in dataloader:\n",
        "      inputs, labels = data\n",
        "      inputs, labels = inputs.to('cuda'), labels.to('cuda')\n",
        "\n",
        "      preds = model(inputs)\n",
        "      # 각 샘플에 대해 가장 높은 점수를 가진 클래스의 인덱스를 반환하는 함수\n",
        "      # 예를 들어, 2개 이미지 데이터가 들어왔고, 각각 10개의 클래스 중 하나로 분류하\n",
        "      preds = torch.argmax(preds, dim=-1)\n",
        "\n",
        "      cnt += labels.shape[0]\n",
        "      acc += (labels == preds).sum().item()\n",
        "\n",
        "    model.train()\n",
        "    return acc / cnt\n"
      ],
      "metadata": {
        "id": "9eFvUksVion-",
        "colab": {
          "base_uri": "https://localhost:8080/"
        },
        "outputId": "442b2f69-e74e-46c3-cb10-e4ba0b1af658"
      },
      "execution_count": null,
      "outputs": [
        {
          "output_type": "stream",
          "name": "stdout",
          "text": [
            "Files already downloaded and verified\n",
            "Files already downloaded and verified\n"
          ]
        }
      ]
    },
    {
      "cell_type": "markdown",
      "source": [
        "- [x]  CIFAR10의 입력 shape 확인\n",
        "    - CIFAR10은 MNIST와 다른 입력 shape을 가지고 있습니다.\n",
        "    - 입력 shape은 model을 선언할 때 중요하기 때문에 MNIST 실습 자료에서 사용한 방식과 똑같이 shape을 확인해주시면 됩니다."
      ],
      "metadata": {
        "id": "zhUGIvUK3muP"
      }
    },
    {
      "cell_type": "code",
      "source": [
        "from matplotlib import pyplot as plt\n",
        "# CIFAR-10 클래스 목록\n",
        "classes = ['airplane', 'automobile', 'bird', 'cat', 'deer', 'dog', 'frog', 'horse', 'ship', 'truck']\n",
        "\n",
        "# 전체 데이터 개수\n",
        "print(len(trainset))\n",
        "\n",
        "# 첫 번째 이미지\n",
        "image_tensor, label = trainset[0]\n",
        "\n",
        "# 텐서 크기와 레이블 확인\n",
        "print(f\"데이터 크기: {image_tensor.shape}\")\n",
        "print(f\"레이블 번호 및 해당 클래스: {label} -> {classes[label]}\")\n",
        "\n",
        "# 이미지도 보고 싶다..! 정규화 이전 이미지로 변환!!!\n",
        "image = image_tensor / 2 + 0.5 # 요건 좀 알아봐야 함.\n",
        "\n",
        "# RGB 고려해서 이미지 출력\n",
        "image_np = image.permute(1, 2, 0).numpy() # (채널 수, 세로, 가로) -> (세로, 가로, 채널 수)\n",
        "plt.imshow(image_np)\n",
        "plt.title(f\"{classes[label]}\")\n",
        "\n",
        "\n",
        "# plt.imshow(trainset[0][0][0]) # 이걸로 하면 정규화 때문인지 색이 좀 이상!?\n",
        "\n"
      ],
      "metadata": {
        "colab": {
          "base_uri": "https://localhost:8080/",
          "height": 521
        },
        "id": "e7mUzQq60iLS",
        "outputId": "94d862b0-068c-4641-9ee3-ea972146adf4"
      },
      "execution_count": null,
      "outputs": [
        {
          "output_type": "stream",
          "name": "stdout",
          "text": [
            "50000\n",
            "데이터 크기: torch.Size([3, 32, 32])\n",
            "레이블 번호 및 해당 클래스: 6 -> frog\n"
          ]
        },
        {
          "output_type": "execute_result",
          "data": {
            "text/plain": [
              "Text(0.5, 1.0, 'frog')"
            ]
          },
          "metadata": {},
          "execution_count": 14
        },
        {
          "output_type": "display_data",
          "data": {
            "text/plain": [
              "<Figure size 640x480 with 1 Axes>"
            ],
            "image/png": "[encoded data removed]"
          },
          "metadata": {}
        }
      ]
    },
    {
      "cell_type": "markdown",
      "source": [
        "- [ ]  SGD와 Adam 성능 비교\n",
        "    - 먼저 [Adam optimizer](https://pytorch.org/docs/stable/generated/torch.optim.Adam.html)을 사용하여 학습하는 코드를 구현합니다.\n",
        "    - (Plot 1) SGD와 Adam을 학습시킨 후 각각의 epoch에 대한 train 정확도를 plot합니다."
      ],
      "metadata": {
        "id": "NYDz1ZYS_d38"
      }
    },
    {
      "cell_type": "code",
      "source": [
        "import torch.optim as optim\n",
        "import matplotlib.pyplot as plt\n",
        "import numpy as np\n",
        "\n",
        "\n",
        "optimizer_adam = optim.Adam(model.parameters(), lr=lr)\n",
        "optimizer_sgd = optim.SGD(model.parameters(), lr=lr)\n",
        "\n",
        "\n",
        "criterion = nn.CrossEntropyLoss()\n",
        "\n",
        "\n",
        "def plot_acc(train_accs_adam, train_accs_sgd, test_accs_adam, test_accs_sgd):\n",
        "    x = np.arange(len(train_accs_adam))\n",
        "\n",
        "    # Adam과 SGD에 대한 정확도 플롯 그리기\n",
        "    plt.plot(x, train_accs_adam, label='Train Adam', linestyle='--')\n",
        "    plt.plot(x, test_accs_adam, label='Test Adam', linestyle='--')\n",
        "\n",
        "    plt.plot(x, train_accs_sgd, label='Train SGD', linestyle='-')\n",
        "    plt.plot(x, test_accs_sgd, label='Test SGD', linestyle='-')\n",
        "\n",
        "    plt.xlabel('Epochs')\n",
        "    plt.ylabel('Accuracy')\n",
        "    plt.title('SGD vs Adam Optimizer Accuracy Comparison')\n",
        "    plt.legend()\n",
        "    plt.show()\n",
        "\n",
        "# 정확도 저장 리스트 (Adam & SGD)\n",
        "train_accs_adam = []\n",
        "test_accs_adam = []\n",
        "train_accs_sgd = []\n",
        "test_accs_sgd = []\n",
        "\n",
        "# 모델의 파라미터를 초기화하는 함수\n",
        "def weight_reset(m):\n",
        "    if isinstance(m, nn.Conv2d) or isinstance(m, nn.Linear):\n",
        "        m.reset_parameters()\n",
        "\n",
        "# 학습 전 모델 초기화하는 함수\n",
        "def reset_model(model):\n",
        "    model.apply(weight_reset)\n",
        "\n",
        "# 정확도 저장 리스트 (Adam & SGD)\n",
        "train_accs_adam = []\n",
        "test_accs_adam = []\n",
        "train_accs_sgd = []\n",
        "test_accs_sgd = []\n",
        "\n",
        "# Adam 옵티마이저로 학습하기 전에 모델 초기화 (다시 그대로 실행하면 아주 낮은 비용에서 시작함)\n",
        "reset_model(model)\n",
        "for epoch in range(n_epochs):\n",
        "    total_loss = 0.\n",
        "\n",
        "    for data in trainloader:\n",
        "        model.zero_grad()\n",
        "\n",
        "        inputs, labels = data\n",
        "        inputs, labels = inputs.to('cuda'), labels.to('cuda')\n",
        "\n",
        "        preds = model(inputs)\n",
        "        loss = criterion(preds, labels)\n",
        "        loss.backward()\n",
        "        optimizer_adam.step()\n",
        "\n",
        "        total_loss += loss.item()\n",
        "\n",
        "    train_acc = accuracy(model, trainloader)\n",
        "    test_acc = accuracy(model, testloader)\n",
        "\n",
        "    train_accs_adam.append(train_acc)\n",
        "    test_accs_adam.append(test_acc)\n",
        "\n",
        "    print(f\"Adam | Epoch: {epoch:3d} | Loss: {total_loss}\")\n",
        "\n",
        "# SGD 옵티마이저로 학습하기 전에 모델 초기화\n",
        "reset_model(model)\n",
        "for epoch in range(n_epochs):\n",
        "    total_loss = 0.\n",
        "\n",
        "    for data in trainloader:\n",
        "        model.zero_grad()\n",
        "\n",
        "        inputs, labels = data\n",
        "        inputs, labels = inputs.to('cuda'), labels.to('cuda')\n",
        "\n",
        "        preds = model(inputs)\n",
        "        loss = criterion(preds, labels)\n",
        "        loss.backward()\n",
        "        optimizer_sgd.step()\n",
        "\n",
        "        total_loss += loss.item()\n",
        "\n",
        "    train_acc = accuracy(model, trainloader)\n",
        "    test_acc = accuracy(model, testloader)\n",
        "\n",
        "    train_accs_sgd.append(train_acc)\n",
        "    test_accs_sgd.append(test_acc)\n",
        "\n",
        "    print(f\"SGD | Epoch: {epoch:3d} | Loss: {total_loss}\")\n",
        "\n",
        "# 정확도 플롯 그리기 (Adam vs SGD)\n",
        "plot_acc(train_accs_adam, train_accs_sgd, test_accs_adam, test_accs_sgd)\n"
      ],
      "metadata": {
        "colab": {
          "base_uri": "https://localhost:8080/",
          "height": 1000
        },
        "id": "OWUz5pQF3UG3",
        "outputId": "4c0574ac-5724-4126-dccf-b2d9db506745"
      },
      "execution_count": null,
      "outputs": [
        {
          "output_type": "stream",
          "name": "stdout",
          "text": [
            "Adam | Epoch:   0 | Loss: 321.1313855648041\n",
            "Adam | Epoch:   1 | Loss: 275.89200460910797\n",
            "Adam | Epoch:   2 | Loss: 249.690420627594\n",
            "Adam | Epoch:   3 | Loss: 228.75145757198334\n",
            "Adam | Epoch:   4 | Loss: 208.34337842464447\n",
            "Adam | Epoch:   5 | Loss: 187.96251446008682\n",
            "Adam | Epoch:   6 | Loss: 167.05537861585617\n",
            "Adam | Epoch:   7 | Loss: 145.8259584903717\n",
            "Adam | Epoch:   8 | Loss: 126.85284385085106\n",
            "Adam | Epoch:   9 | Loss: 108.54393166303635\n",
            "Adam | Epoch:  10 | Loss: 90.91102683544159\n",
            "Adam | Epoch:  11 | Loss: 80.11896467208862\n",
            "Adam | Epoch:  12 | Loss: 65.24519236385822\n",
            "Adam | Epoch:  13 | Loss: 59.71920295059681\n",
            "Adam | Epoch:  14 | Loss: 49.00108805298805\n",
            "Adam | Epoch:  15 | Loss: 44.240155190229416\n",
            "Adam | Epoch:  16 | Loss: 41.75201063603163\n",
            "Adam | Epoch:  17 | Loss: 39.16161867976189\n",
            "Adam | Epoch:  18 | Loss: 38.20499483495951\n",
            "Adam | Epoch:  19 | Loss: 32.74497835338116\n",
            "Adam | Epoch:  20 | Loss: 33.57974714040756\n",
            "Adam | Epoch:  21 | Loss: 35.71265158802271\n",
            "Adam | Epoch:  22 | Loss: 27.60377622023225\n",
            "Adam | Epoch:  23 | Loss: 29.074920028448105\n",
            "Adam | Epoch:  24 | Loss: 30.7995660379529\n",
            "Adam | Epoch:  25 | Loss: 29.318171493709087\n",
            "Adam | Epoch:  26 | Loss: 25.860321808606386\n",
            "Adam | Epoch:  27 | Loss: 24.737045906484127\n",
            "Adam | Epoch:  28 | Loss: 23.455345414578915\n",
            "Adam | Epoch:  29 | Loss: 21.671886544674635\n",
            "Adam | Epoch:  30 | Loss: 26.240364395081997\n",
            "Adam | Epoch:  31 | Loss: 27.5535389482975\n",
            "Adam | Epoch:  32 | Loss: 26.693549182265997\n",
            "Adam | Epoch:  33 | Loss: 23.210533741861582\n",
            "Adam | Epoch:  34 | Loss: 19.249197775498033\n",
            "Adam | Epoch:  35 | Loss: 22.939306937158108\n",
            "Adam | Epoch:  36 | Loss: 22.30884413793683\n",
            "Adam | Epoch:  37 | Loss: 27.602133005857468\n",
            "Adam | Epoch:  38 | Loss: 20.168523268774152\n",
            "Adam | Epoch:  39 | Loss: 20.955741062760353\n",
            "Adam | Epoch:  40 | Loss: 18.44015586003661\n",
            "Adam | Epoch:  41 | Loss: 18.348440999165177\n",
            "Adam | Epoch:  42 | Loss: 21.576257834210992\n",
            "Adam | Epoch:  43 | Loss: 26.29907540604472\n",
            "Adam | Epoch:  44 | Loss: 21.734796222299337\n",
            "Adam | Epoch:  45 | Loss: 22.643154012039304\n",
            "Adam | Epoch:  46 | Loss: 20.852674204856157\n",
            "Adam | Epoch:  47 | Loss: 20.244919495657086\n",
            "Adam | Epoch:  48 | Loss: 18.36492609977722\n",
            "Adam | Epoch:  49 | Loss: 15.962425509467721\n",
            "SGD | Epoch:   0 | Loss: 449.8174681663513\n",
            "SGD | Epoch:   1 | Loss: 446.1791081428528\n",
            "SGD | Epoch:   2 | Loss: 442.6497731208801\n",
            "SGD | Epoch:   3 | Loss: 439.09777331352234\n",
            "SGD | Epoch:   4 | Loss: 435.43433022499084\n",
            "SGD | Epoch:   5 | Loss: 431.66828966140747\n",
            "SGD | Epoch:   6 | Loss: 427.85292291641235\n",
            "SGD | Epoch:   7 | Loss: 424.0250325202942\n",
            "SGD | Epoch:   8 | Loss: 420.2841475009918\n",
            "SGD | Epoch:   9 | Loss: 416.6903450489044\n",
            "SGD | Epoch:  10 | Loss: 413.2825517654419\n",
            "SGD | Epoch:  11 | Loss: 409.8741023540497\n",
            "SGD | Epoch:  12 | Loss: 406.7486083507538\n",
            "SGD | Epoch:  13 | Loss: 403.71476697921753\n",
            "SGD | Epoch:  14 | Loss: 400.79569160938263\n",
            "SGD | Epoch:  15 | Loss: 398.0097841024399\n",
            "SGD | Epoch:  16 | Loss: 395.3089760541916\n",
            "SGD | Epoch:  17 | Loss: 392.7626405954361\n",
            "SGD | Epoch:  18 | Loss: 390.2122725248337\n",
            "SGD | Epoch:  19 | Loss: 387.7631412744522\n",
            "SGD | Epoch:  20 | Loss: 385.4084141254425\n",
            "SGD | Epoch:  21 | Loss: 383.191135764122\n",
            "SGD | Epoch:  22 | Loss: 381.02563059329987\n",
            "SGD | Epoch:  23 | Loss: 378.97091007232666\n",
            "SGD | Epoch:  24 | Loss: 377.0345137119293\n",
            "SGD | Epoch:  25 | Loss: 375.0400447845459\n",
            "SGD | Epoch:  26 | Loss: 373.1858414411545\n",
            "SGD | Epoch:  27 | Loss: 371.476704955101\n",
            "SGD | Epoch:  28 | Loss: 369.719757437706\n",
            "SGD | Epoch:  29 | Loss: 368.1334819793701\n",
            "SGD | Epoch:  30 | Loss: 366.41958224773407\n",
            "SGD | Epoch:  31 | Loss: 364.9735412597656\n",
            "SGD | Epoch:  32 | Loss: 363.6451960802078\n",
            "SGD | Epoch:  33 | Loss: 362.13368010520935\n",
            "SGD | Epoch:  34 | Loss: 360.8166536092758\n",
            "SGD | Epoch:  35 | Loss: 359.44800901412964\n",
            "SGD | Epoch:  36 | Loss: 358.1062319278717\n",
            "SGD | Epoch:  37 | Loss: 356.9681202173233\n",
            "SGD | Epoch:  38 | Loss: 355.8536499738693\n",
            "SGD | Epoch:  39 | Loss: 354.6261662244797\n",
            "SGD | Epoch:  40 | Loss: 353.48870968818665\n",
            "SGD | Epoch:  41 | Loss: 352.4346605539322\n",
            "SGD | Epoch:  42 | Loss: 351.368040561676\n",
            "SGD | Epoch:  43 | Loss: 350.4222682714462\n",
            "SGD | Epoch:  44 | Loss: 349.3813341856003\n",
            "SGD | Epoch:  45 | Loss: 348.2873319387436\n",
            "SGD | Epoch:  46 | Loss: 347.37190985679626\n",
            "SGD | Epoch:  47 | Loss: 346.35273814201355\n",
            "SGD | Epoch:  48 | Loss: 345.4169992208481\n",
            "SGD | Epoch:  49 | Loss: 344.60727310180664\n"
          ]
        },
        {
          "output_type": "display_data",
          "data": {
            "text/plain": [
              "<Figure size 640x480 with 1 Axes>"
            ],
            "image/png": "[encoded data removed]"
          },
          "metadata": {}
        }
      ]
    },
    {
      "cell_type": "markdown",
      "source": [
        "- [x]  Leaky ReLU와 Sigmoid 성능 비교\n",
        "    - Activation 함수가 `nn.Sigmoid`인 class를 새로 정의합니다.\n",
        "    - (Plot 2) Adam optimizer를 가지고 sigmoid와 leaky ReLU 모델들을 학습한 후, epoch에 따른 train 정확도를 비교합니다."
      ],
      "metadata": {
        "id": "1f6zJV6RbWD2"
      }
    },
    {
      "cell_type": "code",
      "source": [
        "import torch\n",
        "import torch.nn as nn\n",
        "import torch.optim as optim\n",
        "# 모델: 활성화 함수를 변경(sigmoid)\n",
        "class Model_Sigmoid(nn.Module):\n",
        "  def __init__(self, input_dim, n_dim):\n",
        "    super().__init__()\n",
        "\n",
        "    self.layer1 = nn.Linear(input_dim, n_dim)\n",
        "    self.layer2 = nn.Linear(n_dim, n_dim)\n",
        "    self.layer3 = nn.Linear(n_dim, 10) # 데이터셋이 10개 클래스로 분류될 것이므로 출력 차원은 10\n",
        "\n",
        "    # 활성화 함수\n",
        "    self.act = nn.Sigmoid()\n",
        "\n",
        "  def forward(self, x):\n",
        "    x = torch.flatten(x, start_dim=1) # (n, 3, 32, 32) 로 들어온 입력 x 에 대해 (n, 3 * 32 * 32) 의 2차원으로 만들어주기 (Linear 가 이런 형태의 입력을 받을 수 있어서라고 했던 듯)\n",
        "    x = self.act(self.layer1(x))\n",
        "    x = self.act(self.layer2(x))\n",
        "    x = self.layer3(x)\n",
        "\n",
        "    return x\n",
        "\n",
        "model_sigmoid = Model_Sigmoid(3 * 32 * 32, 1024) # 입력 차원 수는 3 * 32 * 32 이고, 동시에 중간 은닉층(?) 의 차원수는 1024 로 설정..\n",
        "\n",
        "\n",
        "# 모델: LeakyReLU\n",
        "class Model_Leaky_ReLU(nn.Module):\n",
        "  def __init__(self, input_dim, n_dim):\n",
        "    super().__init__()\n",
        "\n",
        "    self.layer1 = nn.Linear(input_dim, n_dim)\n",
        "    self.layer2 = nn.Linear(n_dim, n_dim)\n",
        "    self.layer3 = nn.Linear(n_dim, 10) # 데이터셋이 10개 클래스로 분류될 것이므로 출력 차원은 10\n",
        "\n",
        "    # 활성화 함수\n",
        "    self.act = nn.LeakyReLU()\n",
        "\n",
        "  def forward(self, x):\n",
        "    x = torch.flatten(x, start_dim=1) # (n, 3, 32, 32) 로 들어온 입력 x 에 대해 (n, 3 * 32 * 32) 의 2차원으로 만들어주기 (Linear 가 이런 형태의 입력을 받을 수 있어서라고 했던 듯)\n",
        "    x = self.act(self.layer1(x))\n",
        "    x = self.act(self.layer2(x))\n",
        "    x = self.layer3(x)\n",
        "\n",
        "    return x\n",
        "\n",
        "model_leaky_relu = Model_Leaky_ReLU(3 * 32 * 32, 1024) # 입력 차원 수는 3 * 32 * 32 이고, 동시에 중간 은닉층(?) 의 차원수는 1024 로 설정..\n"
      ],
      "metadata": {
        "id": "qcz3QvZ6BaAv"
      },
      "execution_count": 2,
      "outputs": []
    },
    {
      "cell_type": "code",
      "source": [
        "import torch.optim as optim\n",
        "import matplotlib.pyplot as plt\n",
        "import numpy as np\n",
        "\n",
        "\n",
        "import torch\n",
        "import torch.nn as nn\n",
        "import torch.optim as optim\n",
        "import torchvision\n",
        "import torchvision.transforms as transforms\n",
        "from torch.utils.data import DataLoader\n",
        "\n",
        "# CIFAR-10 데이터셋 로드\n",
        "transform = transforms.Compose([\n",
        "    transforms.ToTensor(),\n",
        "    transforms.Normalize((0.5, 0.5, 0.5), (0.5, 0.5, 0.5))\n",
        "])\n",
        "\n",
        "trainset = torchvision.datasets.CIFAR10(root='./data', train=True, download=True, transform=transform)\n",
        "testset = torchvision.datasets.CIFAR10(root='./data', train=False, download=True, transform=transform)\n",
        "\n",
        "# DataLoader 설정\n",
        "batch_size = 256\n",
        "trainloader = DataLoader(trainset, batch_size=batch_size, shuffle=True)\n",
        "testloader = DataLoader(testset, batch_size=batch_size, shuffle=False)\n",
        "\n",
        "# 학습에 관한 설정\n",
        "n_epochs = 50\n",
        "lr = 0.001\n",
        "\n",
        "model_leaky_relu = model_leaky_relu.to('cuda') # GPU 사용\n",
        "model_sigmoid = model_sigmoid.to('cuda') # GPU 사용\n",
        "\n",
        "# optimizer 는 Adam 을 사용\n",
        "optimizer_adam_leaky_relu = optim.Adam(model_leaky_relu.parameters(), lr=lr)\n",
        "optimizer_adam_sigmoid = optim.Adam(model_sigmoid.parameters(), lr=lr)\n",
        "\n",
        "# 분류문제니까 여전히 비용은 CrossEntropy 로 계산\n",
        "criterion = nn.CrossEntropyLoss()\n",
        "\n",
        "# 활성화 함수를 달리하는 모델별 정확도 저장 리스트 (leaky ReLU & sigmoid)\n",
        "train_accs_leaky_relu = []\n",
        "test_accs_leaky_relu = []\n",
        "train_accs_sigmoid = []\n",
        "test_accs_sigmoid = []\n",
        "def plot_acc(train_accs_leaky_relu, train_accs_sigmoid, test_accs_leaky_relu, test_accs_sigmoid):\n",
        "    x = np.arange(len(train_accs_leaky_relu))\n",
        "\n",
        "    plt.plot(x, train_accs_leaky_relu, label='Train Leaky ReLU', linestyle='--')\n",
        "    plt.plot(x, test_accs_leaky_relu, label='Test Leaky ReLU', linestyle='--')\n",
        "\n",
        "    plt.plot(x, train_accs_sigmoid, label='Train Sigmoid', linestyle='-')\n",
        "    plt.plot(x, test_accs_sigmoid, label='Test Sigmoid', linestyle='-')\n",
        "\n",
        "    plt.xlabel('Epochs')\n",
        "    plt.ylabel('Accuracy')\n",
        "    plt.title('Leaky ReLU vs Sigmoid Accuracy Comparison')\n",
        "    plt.legend()\n",
        "    plt.show()\n",
        "\n",
        "# 정확도 함수\n",
        "def accuracy(model, dataloader):\n",
        "  cnt = 0\n",
        "  acc = 0\n",
        "\n",
        "  model.eval()\n",
        "  with torch.no_grad(): # gradient 계산을 할 필요 없으므로 비활성화 (리소스 절약)\n",
        "    for data in dataloader:\n",
        "      inputs, labels = data\n",
        "      inputs, labels = inputs.to('cuda'), labels.to('cuda')\n",
        "\n",
        "      preds = model(inputs)\n",
        "      # 각 샘플에 대해 가장 높은 점수를 가진 클래스의 인덱스를 반환하는 함수\n",
        "      # 예를 들어, 2개 이미지 데이터가 들어왔고, 각각 10개의 클래스 중 하나로 분류하\n",
        "      preds = torch.argmax(preds, dim=-1)\n",
        "\n",
        "      cnt += labels.shape[0]\n",
        "      acc += (labels == preds).sum().item()\n",
        "\n",
        "    model.train()\n",
        "    return acc / cnt\n",
        "\n",
        "\n",
        "# 모델의 파라미터를 초기화하는 함수\n",
        "def weight_reset(m):\n",
        "    if isinstance(m, nn.Conv2d) or isinstance(m, nn.Linear):\n",
        "        m.reset_parameters()\n",
        "\n",
        "# 학습 전 모델 초기화하는 함수\n",
        "def reset_model(model):\n",
        "    model.apply(weight_reset)\n",
        "\n",
        "\n",
        "reset_model(model_leaky_relu)\n",
        "for epoch in range(n_epochs):\n",
        "    total_loss = 0.\n",
        "\n",
        "    for data in trainloader:\n",
        "        model_leaky_relu.zero_grad()\n",
        "\n",
        "        inputs, labels = data\n",
        "        inputs, labels = inputs.to('cuda'), labels.to('cuda')\n",
        "\n",
        "        preds = model_leaky_relu(inputs)\n",
        "        loss = criterion(preds, labels)\n",
        "        loss.backward()\n",
        "        optimizer_adam_leaky_relu.step()\n",
        "\n",
        "        total_loss += loss.item()\n",
        "\n",
        "    train_acc = accuracy(model_leaky_relu, trainloader)\n",
        "    test_acc = accuracy(model_leaky_relu, testloader)\n",
        "\n",
        "    train_accs_leaky_relu.append(train_acc)\n",
        "    test_accs_leaky_relu.append(test_acc)\n",
        "\n",
        "    print(f\"Leaky ReLU | Epoch: {epoch:3d} | Loss: {total_loss}\")\n",
        "\n",
        "\n",
        "reset_model(model_sigmoid)\n",
        "for epoch in range(n_epochs):\n",
        "    total_loss = 0.\n",
        "\n",
        "    for data in trainloader:\n",
        "        model_sigmoid.zero_grad()\n",
        "\n",
        "        inputs, labels = data\n",
        "        inputs, labels = inputs.to('cuda'), labels.to('cuda')\n",
        "\n",
        "        preds = model_sigmoid(inputs)\n",
        "        loss = criterion(preds, labels)\n",
        "        loss.backward()\n",
        "        optimizer_adam_sigmoid.step()\n",
        "\n",
        "        total_loss += loss.item()\n",
        "\n",
        "    train_acc = accuracy(model_sigmoid, trainloader)\n",
        "    test_acc = accuracy(model_sigmoid, testloader)\n",
        "\n",
        "    train_accs_sigmoid.append(train_acc)\n",
        "    test_accs_sigmoid.append(test_acc)\n",
        "\n",
        "    print(f\"Sigmoid | Epoch: {epoch:3d} | Loss: {total_loss}\")\n",
        "\n"
      ],
      "metadata": {
        "colab": {
          "base_uri": "https://localhost:8080/"
        },
        "id": "Fhyp2MP3bmA-",
        "outputId": "f06bff39-8862-42a3-fe0e-248c586f7f18"
      },
      "execution_count": 3,
      "outputs": [
        {
          "output_type": "stream",
          "name": "stdout",
          "text": [
            "Files already downloaded and verified\n",
            "Files already downloaded and verified\n",
            "Leaky ReLU | Epoch:   0 | Loss: 320.29580068588257\n",
            "Leaky ReLU | Epoch:   1 | Loss: 274.80606174468994\n",
            "Leaky ReLU | Epoch:   2 | Loss: 249.35708785057068\n",
            "Leaky ReLU | Epoch:   3 | Loss: 228.69688975811005\n",
            "Leaky ReLU | Epoch:   4 | Loss: 207.86753410100937\n",
            "Leaky ReLU | Epoch:   5 | Loss: 187.46581411361694\n",
            "Leaky ReLU | Epoch:   6 | Loss: 166.41387236118317\n",
            "Leaky ReLU | Epoch:   7 | Loss: 146.0301114320755\n",
            "Leaky ReLU | Epoch:   8 | Loss: 126.00055143237114\n",
            "Leaky ReLU | Epoch:   9 | Loss: 108.27916657924652\n",
            "Leaky ReLU | Epoch:  10 | Loss: 91.5351293683052\n",
            "Leaky ReLU | Epoch:  11 | Loss: 77.44995084404945\n",
            "Leaky ReLU | Epoch:  12 | Loss: 66.09091201424599\n",
            "Leaky ReLU | Epoch:  13 | Loss: 58.6645061224699\n",
            "Leaky ReLU | Epoch:  14 | Loss: 50.61144642531872\n",
            "Leaky ReLU | Epoch:  15 | Loss: 46.14988674223423\n",
            "Leaky ReLU | Epoch:  16 | Loss: 40.441869139671326\n",
            "Leaky ReLU | Epoch:  17 | Loss: 38.46091954410076\n",
            "Leaky ReLU | Epoch:  18 | Loss: 32.944433987140656\n",
            "Leaky ReLU | Epoch:  19 | Loss: 36.004313588142395\n",
            "Leaky ReLU | Epoch:  20 | Loss: 32.352852925658226\n",
            "Leaky ReLU | Epoch:  21 | Loss: 31.400065556168556\n",
            "Leaky ReLU | Epoch:  22 | Loss: 29.09333313256502\n",
            "Leaky ReLU | Epoch:  23 | Loss: 31.183588601648808\n",
            "Leaky ReLU | Epoch:  24 | Loss: 27.27043627947569\n",
            "Leaky ReLU | Epoch:  25 | Loss: 29.02880310639739\n",
            "Leaky ReLU | Epoch:  26 | Loss: 25.579492934048176\n",
            "Leaky ReLU | Epoch:  27 | Loss: 26.399517975747585\n",
            "Leaky ReLU | Epoch:  28 | Loss: 25.917567037045956\n",
            "Leaky ReLU | Epoch:  29 | Loss: 21.60812133178115\n",
            "Leaky ReLU | Epoch:  30 | Loss: 23.7315078265965\n",
            "Leaky ReLU | Epoch:  31 | Loss: 32.374010883271694\n",
            "Leaky ReLU | Epoch:  32 | Loss: 26.38083801046014\n",
            "Leaky ReLU | Epoch:  33 | Loss: 20.083037111908197\n",
            "Leaky ReLU | Epoch:  34 | Loss: 17.810876643285155\n",
            "Leaky ReLU | Epoch:  35 | Loss: 20.236544631421566\n",
            "Leaky ReLU | Epoch:  36 | Loss: 21.588444331660867\n",
            "Leaky ReLU | Epoch:  37 | Loss: 27.70875335484743\n",
            "Leaky ReLU | Epoch:  38 | Loss: 22.27372820675373\n",
            "Leaky ReLU | Epoch:  39 | Loss: 18.461040435358882\n",
            "Leaky ReLU | Epoch:  40 | Loss: 18.80013800226152\n",
            "Leaky ReLU | Epoch:  41 | Loss: 22.616447441279888\n",
            "Leaky ReLU | Epoch:  42 | Loss: 25.48602905496955\n",
            "Leaky ReLU | Epoch:  43 | Loss: 23.303387006744742\n",
            "Leaky ReLU | Epoch:  44 | Loss: 16.711816472932696\n",
            "Leaky ReLU | Epoch:  45 | Loss: 16.67384917847812\n",
            "Leaky ReLU | Epoch:  46 | Loss: 21.594640716910362\n",
            "Leaky ReLU | Epoch:  47 | Loss: 22.192071428522468\n",
            "Leaky ReLU | Epoch:  48 | Loss: 19.842624705284834\n",
            "Leaky ReLU | Epoch:  49 | Loss: 18.11271220445633\n",
            "Sigmoid | Epoch:   0 | Loss: 350.08564579486847\n",
            "Sigmoid | Epoch:   1 | Loss: 304.56261575222015\n",
            "Sigmoid | Epoch:   2 | Loss: 281.61516320705414\n",
            "Sigmoid | Epoch:   3 | Loss: 262.2987058162689\n",
            "Sigmoid | Epoch:   4 | Loss: 245.88553667068481\n",
            "Sigmoid | Epoch:   5 | Loss: 228.618985414505\n",
            "Sigmoid | Epoch:   6 | Loss: 210.26052123308182\n",
            "Sigmoid | Epoch:   7 | Loss: 192.93865144252777\n",
            "Sigmoid | Epoch:   8 | Loss: 174.57063323259354\n",
            "Sigmoid | Epoch:   9 | Loss: 157.54669761657715\n",
            "Sigmoid | Epoch:  10 | Loss: 137.83397096395493\n",
            "Sigmoid | Epoch:  11 | Loss: 122.20058903098106\n",
            "Sigmoid | Epoch:  12 | Loss: 107.99060100317001\n",
            "Sigmoid | Epoch:  13 | Loss: 93.04042634367943\n",
            "Sigmoid | Epoch:  14 | Loss: 80.48017832636833\n",
            "Sigmoid | Epoch:  15 | Loss: 68.30483232438564\n",
            "Sigmoid | Epoch:  16 | Loss: 60.826509699225426\n",
            "Sigmoid | Epoch:  17 | Loss: 53.035658702254295\n",
            "Sigmoid | Epoch:  18 | Loss: 44.04405099153519\n",
            "Sigmoid | Epoch:  19 | Loss: 40.70495539903641\n",
            "Sigmoid | Epoch:  20 | Loss: 37.6251487955451\n",
            "Sigmoid | Epoch:  21 | Loss: 31.22163038700819\n",
            "Sigmoid | Epoch:  22 | Loss: 26.28374019265175\n",
            "Sigmoid | Epoch:  23 | Loss: 26.989670611917973\n",
            "Sigmoid | Epoch:  24 | Loss: 22.792752783745527\n",
            "Sigmoid | Epoch:  25 | Loss: 25.13599781692028\n",
            "Sigmoid | Epoch:  26 | Loss: 19.410005684942007\n",
            "Sigmoid | Epoch:  27 | Loss: 19.423854552209377\n",
            "Sigmoid | Epoch:  28 | Loss: 20.454575803130865\n",
            "Sigmoid | Epoch:  29 | Loss: 18.787508863955736\n",
            "Sigmoid | Epoch:  30 | Loss: 21.286500748246908\n",
            "Sigmoid | Epoch:  31 | Loss: 12.209144284948707\n",
            "Sigmoid | Epoch:  32 | Loss: 12.847022503614426\n",
            "Sigmoid | Epoch:  33 | Loss: 23.498696133494377\n",
            "Sigmoid | Epoch:  34 | Loss: 19.473113365471363\n",
            "Sigmoid | Epoch:  35 | Loss: 12.539876077324152\n",
            "Sigmoid | Epoch:  36 | Loss: 9.206926818937063\n",
            "Sigmoid | Epoch:  37 | Loss: 11.283600740134716\n",
            "Sigmoid | Epoch:  38 | Loss: 16.157361086457968\n",
            "Sigmoid | Epoch:  39 | Loss: 19.79334339313209\n",
            "Sigmoid | Epoch:  40 | Loss: 15.443298967555165\n",
            "Sigmoid | Epoch:  41 | Loss: 9.806455748155713\n",
            "Sigmoid | Epoch:  42 | Loss: 11.36503129824996\n",
            "Sigmoid | Epoch:  43 | Loss: 10.257326206192374\n",
            "Sigmoid | Epoch:  44 | Loss: 16.231743667274714\n",
            "Sigmoid | Epoch:  45 | Loss: 17.044321943074465\n",
            "Sigmoid | Epoch:  46 | Loss: 9.433216476812959\n",
            "Sigmoid | Epoch:  47 | Loss: 7.064352293498814\n",
            "Sigmoid | Epoch:  48 | Loss: 8.445529136806726\n",
            "Sigmoid | Epoch:  49 | Loss: 12.753364806994796\n"
          ]
        }
      ]
    },
    {
      "cell_type": "code",
      "source": [
        "def plot_acc(train_accs_leaky_relu, train_accs_sigmoid, test_accs_leaky_relu, test_accs_sigmoid):\n",
        "    x = np.arange(len(train_accs_leaky_relu))\n",
        "\n",
        "    plt.plot(x, train_accs_leaky_relu, label='Train Leaky ReLU', linestyle='--')\n",
        "    plt.plot(x, test_accs_leaky_relu, label='Test Leaky ReLU', linestyle='--')\n",
        "\n",
        "    plt.plot(x, train_accs_sigmoid, label='Train Sigmoid', linestyle='-')\n",
        "    plt.plot(x, test_accs_sigmoid, label='Test Sigmoid', linestyle='-')\n",
        "\n",
        "    plt.xlabel('Epochs')\n",
        "    plt.ylabel('Accuracy')\n",
        "    plt.title('Leaky ReLU vs Sigmoid Accuracy Comparison')\n",
        "    plt.legend()\n",
        "    plt.show()"
      ],
      "metadata": {
        "id": "K2tEnB3F0_Kr"
      },
      "execution_count": 5,
      "outputs": []
    },
    {
      "cell_type": "code",
      "source": [
        "# 정확도 플롯 그리기\n",
        "plot_acc(train_accs_leaky_relu, train_accs_sigmoid, test_accs_leaky_relu, test_accs_sigmoid)\n"
      ],
      "metadata": {
        "colab": {
          "base_uri": "https://localhost:8080/",
          "height": 472
        },
        "id": "VlkU54tVvZwJ",
        "outputId": "ddd63ede-bf2b-452e-bcc9-b0cf963740e2"
      },
      "execution_count": 6,
      "outputs": [
        {
          "output_type": "display_data",
          "data": {
            "text/plain": [
              "<Figure size 640x480 with 1 Axes>"
            ],
            "image/png": "[encoded data removed]"
          },
          "metadata": {}
        }
      ]
    },
    {
      "cell_type": "markdown",
      "source": [
        "- [ ]  Dropout을 적용한 이후의 generalization error 확인\n",
        "    - PyTorch [dropout](https://pytorch.org/docs/stable/generated/torch.nn.Dropout.html)을 leaky ReLU를 사용하는 MLP의 모든 layer에 적용한 class를 새로 정의합니다. Dropout 확률은 0.1로 설정합니다.\n",
        "    - 학습 코드에서 다음 부분들을 추가해줍니다:\n",
        "        - `model.train()`을 `for data in trainloader:` 이전 줄에 둡니다.\n",
        "        - `trainloader`와 `testloader`에 대한 정확도를 계산하는 코드를 다음과 같이 변경합니다:\n",
        "            \n",
        "            ```python\n",
        "            with torch.no_grad():\n",
        "              model.eval()\n",
        "              <기존 정확도 계산 코드>\n",
        "            ```\n",
        "            \n",
        "    - (Plot 3) Adam optimizer를 가지고 dropout을 적용한 모델을 학습한 후, epoch에 따른 train과 test 정확도를 비교합니다."
      ],
      "metadata": {
        "id": "wI675RwsB8J1"
      }
    },
    {
      "cell_type": "code",
      "source": [
        "import torch\n",
        "import torch.nn as nn\n",
        "import torch.optim as optim\n",
        "\n",
        "# Dropout 추가 모델: LeakyReLU + Dropout\n",
        "class Model_Leaky_ReLU_Dropout(nn.Module):\n",
        "    def __init__(self, input_dim, n_dim, dropout_prob=0.1):\n",
        "        super().__init__()\n",
        "\n",
        "        self.layer1 = nn.Linear(input_dim, n_dim)\n",
        "        self.layer2 = nn.Linear(n_dim, n_dim)\n",
        "        self.layer3 = nn.Linear(n_dim, 10) # 10개의 클래스 분류\n",
        "\n",
        "        # 활성화 함수 및 Dropout\n",
        "        self.act = nn.LeakyReLU()\n",
        "        self.dropout = nn.Dropout(p=dropout_prob)\n",
        "\n",
        "    def forward(self, x):\n",
        "        x = torch.flatten(x, start_dim=1)\n",
        "        x = self.dropout(self.act(self.layer1(x)))\n",
        "        x = self.dropout(self.act(self.layer2(x)))\n",
        "        x = self.layer3(x)\n",
        "\n",
        "        return x\n",
        "\n",
        "# 모델 생성\n",
        "model_leaky_relu_dropout = Model_Leaky_ReLU_Dropout(3 * 32 * 32, 1024)\n",
        "model_leaky_relu_dropout = model_leaky_relu_dropout.to('cuda')\n"
      ],
      "metadata": {
        "id": "ROSYtmOsB7eH"
      },
      "execution_count": 7,
      "outputs": []
    },
    {
      "cell_type": "code",
      "source": [
        "import torch.optim as optim\n",
        "import matplotlib.pyplot as plt\n",
        "import numpy as np\n",
        "\n",
        "\n",
        "import torch\n",
        "import torch.nn as nn\n",
        "import torch.optim as optim\n",
        "import torchvision\n",
        "import torchvision.transforms as transforms\n",
        "from torch.utils.data import DataLoader\n",
        "\n",
        "# CIFAR-10 데이터셋 로드\n",
        "transform = transforms.Compose([\n",
        "    transforms.ToTensor(),\n",
        "    transforms.Normalize((0.5, 0.5, 0.5), (0.5, 0.5, 0.5))\n",
        "])\n",
        "\n",
        "trainset = torchvision.datasets.CIFAR10(root='./data', train=True, download=True, transform=transform)\n",
        "testset = torchvision.datasets.CIFAR10(root='./data', train=False, download=True, transform=transform)\n",
        "\n",
        "# DataLoader 설정\n",
        "batch_size = 256\n",
        "trainloader = DataLoader(trainset, batch_size=batch_size, shuffle=True)\n",
        "testloader = DataLoader(testset, batch_size=batch_size, shuffle=False)\n",
        "\n",
        "# 학습에 관한 설정\n",
        "n_epochs = 50\n",
        "lr = 0.001\n",
        "\n",
        "model_leaky_relu_dropout = model_leaky_relu_dropout.to('cuda') # GPU 사용\n",
        "\n",
        "\n",
        "# optimizer 는 Adam 을 사용\n",
        "optimizer_adam_leaky_relu_dropout = optim.Adam(model_leaky_relu_dropout.parameters(), lr=lr)\n",
        "\n",
        "\n",
        "# 분류문제니까 여전히 비용은 CrossEntropy 로 계산\n",
        "criterion = nn.CrossEntropyLoss()\n",
        "\n",
        "# dropout 적용 + leaky relu 활성화 함수 사용 + Adam 옵티마이저 사용할 정확도 저장 리스트\n",
        "train_accs_leaky_relu_dropout = []\n",
        "test_accs_leaky_relu_dropout = []\n",
        "\n",
        "\n",
        "# 정확도 함수\n",
        "def accuracy(model, dataloader):\n",
        "  cnt = 0\n",
        "  acc = 0\n",
        "\n",
        "\n",
        "  with torch.no_grad(): # gradient 계산을 할 필요 없으므로 비활성화 (리소스 절약)\n",
        "    model.eval()\n",
        "    for data in dataloader:\n",
        "      inputs, labels = data\n",
        "      inputs, labels = inputs.to('cuda'), labels.to('cuda')\n",
        "\n",
        "      preds = model(inputs)\n",
        "      # 각 샘플에 대해 가장 높은 점수를 가진 클래스의 인덱스를 반환하는 함수\n",
        "      # 예를 들어, 2개 이미지 데이터가 들어왔고, 각각 10개의 클래스 중 하나로 분류하\n",
        "      preds = torch.argmax(preds, dim=-1)\n",
        "\n",
        "      cnt += labels.shape[0]\n",
        "      acc += (labels == preds).sum().item()\n",
        "\n",
        "    return acc / cnt\n",
        "\n",
        "\n",
        "# 모델의 파라미터를 초기화하는 함수\n",
        "def weight_reset(m):\n",
        "    if isinstance(m, nn.Conv2d) or isinstance(m, nn.Linear):\n",
        "        m.reset_parameters()\n",
        "\n",
        "# 학습 전 모델 초기화하는 함수\n",
        "def reset_model(model):\n",
        "    model.apply(weight_reset)\n",
        "\n",
        "\n",
        "reset_model(model_leaky_relu_dropout)\n",
        "for epoch in range(n_epochs):\n",
        "    total_loss = 0.\n",
        "\n",
        "    model_leaky_relu_dropout.train()\n",
        "    for data in trainloader:\n",
        "        model_leaky_relu_dropout.zero_grad()\n",
        "\n",
        "        inputs, labels = data\n",
        "        inputs, labels = inputs.to('cuda'), labels.to('cuda')\n",
        "\n",
        "        preds = model_leaky_relu_dropout(inputs)\n",
        "        loss = criterion(preds, labels)\n",
        "        loss.backward()\n",
        "        optimizer_adam_leaky_relu_dropout.step()\n",
        "\n",
        "        total_loss += loss.item()\n",
        "\n",
        "    train_acc = accuracy(model_leaky_relu_dropout, trainloader)\n",
        "    test_acc = accuracy(model_leaky_relu_dropout, testloader)\n",
        "\n",
        "    train_accs_leaky_relu_dropout.append(train_acc)\n",
        "    test_accs_leaky_relu_dropout.append(test_acc)\n",
        "\n",
        "    print(f\"Leaky ReLU with dropout | Epoch: {epoch:3d} | Loss: {total_loss}\")\n",
        "\n"
      ],
      "metadata": {
        "id": "AB6nAsjDvbuv",
        "colab": {
          "base_uri": "https://localhost:8080/"
        },
        "outputId": "2f355377-e817-4aac-ef4d-2e63c811e847"
      },
      "execution_count": 10,
      "outputs": [
        {
          "output_type": "stream",
          "name": "stdout",
          "text": [
            "Files already downloaded and verified\n",
            "Files already downloaded and verified\n",
            "Leaky ReLU with dropout | Epoch:   0 | Loss: 323.45313477516174\n",
            "Leaky ReLU with dropout | Epoch:   1 | Loss: 280.59339797496796\n",
            "Leaky ReLU with dropout | Epoch:   2 | Loss: 258.9867128133774\n",
            "Leaky ReLU with dropout | Epoch:   3 | Loss: 239.62474739551544\n",
            "Leaky ReLU with dropout | Epoch:   4 | Loss: 224.21163636446\n",
            "Leaky ReLU with dropout | Epoch:   5 | Loss: 209.43002051115036\n",
            "Leaky ReLU with dropout | Epoch:   6 | Loss: 194.12660717964172\n",
            "Leaky ReLU with dropout | Epoch:   7 | Loss: 179.77055686712265\n",
            "Leaky ReLU with dropout | Epoch:   8 | Loss: 165.019689142704\n",
            "Leaky ReLU with dropout | Epoch:   9 | Loss: 150.13800662755966\n",
            "Leaky ReLU with dropout | Epoch:  10 | Loss: 137.2753165960312\n",
            "Leaky ReLU with dropout | Epoch:  11 | Loss: 125.48651829361916\n",
            "Leaky ReLU with dropout | Epoch:  12 | Loss: 115.63100269436836\n",
            "Leaky ReLU with dropout | Epoch:  13 | Loss: 104.8886067867279\n",
            "Leaky ReLU with dropout | Epoch:  14 | Loss: 97.08299455046654\n",
            "Leaky ReLU with dropout | Epoch:  15 | Loss: 89.41397160291672\n",
            "Leaky ReLU with dropout | Epoch:  16 | Loss: 83.49362578988075\n",
            "Leaky ReLU with dropout | Epoch:  17 | Loss: 75.83658263087273\n",
            "Leaky ReLU with dropout | Epoch:  18 | Loss: 70.88315087556839\n",
            "Leaky ReLU with dropout | Epoch:  19 | Loss: 66.33705994486809\n",
            "Leaky ReLU with dropout | Epoch:  20 | Loss: 65.58600816130638\n",
            "Leaky ReLU with dropout | Epoch:  21 | Loss: 61.85936622321606\n",
            "Leaky ReLU with dropout | Epoch:  22 | Loss: 57.53875957429409\n",
            "Leaky ReLU with dropout | Epoch:  23 | Loss: 56.242528691887856\n",
            "Leaky ReLU with dropout | Epoch:  24 | Loss: 54.19295208156109\n",
            "Leaky ReLU with dropout | Epoch:  25 | Loss: 52.460746347904205\n",
            "Leaky ReLU with dropout | Epoch:  26 | Loss: 50.172595366835594\n",
            "Leaky ReLU with dropout | Epoch:  27 | Loss: 47.74798260629177\n",
            "Leaky ReLU with dropout | Epoch:  28 | Loss: 47.75196315348148\n",
            "Leaky ReLU with dropout | Epoch:  29 | Loss: 47.66828955709934\n",
            "Leaky ReLU with dropout | Epoch:  30 | Loss: 44.63692336529493\n",
            "Leaky ReLU with dropout | Epoch:  31 | Loss: 43.25941327959299\n",
            "Leaky ReLU with dropout | Epoch:  32 | Loss: 43.47777771949768\n",
            "Leaky ReLU with dropout | Epoch:  33 | Loss: 42.63649647682905\n",
            "Leaky ReLU with dropout | Epoch:  34 | Loss: 40.159597277641296\n",
            "Leaky ReLU with dropout | Epoch:  35 | Loss: 38.679268047213554\n",
            "Leaky ReLU with dropout | Epoch:  36 | Loss: 41.523162089288235\n",
            "Leaky ReLU with dropout | Epoch:  37 | Loss: 39.94759488105774\n",
            "Leaky ReLU with dropout | Epoch:  38 | Loss: 39.149368055164814\n",
            "Leaky ReLU with dropout | Epoch:  39 | Loss: 37.410311087965965\n",
            "Leaky ReLU with dropout | Epoch:  40 | Loss: 37.46409870684147\n",
            "Leaky ReLU with dropout | Epoch:  41 | Loss: 38.77284446358681\n",
            "Leaky ReLU with dropout | Epoch:  42 | Loss: 35.01399464160204\n",
            "Leaky ReLU with dropout | Epoch:  43 | Loss: 36.61501233279705\n",
            "Leaky ReLU with dropout | Epoch:  44 | Loss: 34.03655618429184\n",
            "Leaky ReLU with dropout | Epoch:  45 | Loss: 37.25673086941242\n",
            "Leaky ReLU with dropout | Epoch:  46 | Loss: 36.83849086239934\n",
            "Leaky ReLU with dropout | Epoch:  47 | Loss: 33.272721730172634\n",
            "Leaky ReLU with dropout | Epoch:  48 | Loss: 35.95942513644695\n",
            "Leaky ReLU with dropout | Epoch:  49 | Loss: 34.301273077726364\n"
          ]
        }
      ]
    },
    {
      "cell_type": "code",
      "source": [
        "import matplotlib.pyplot as plt\n",
        "import numpy as np\n",
        "\n",
        "\n",
        "# 정확도 플롯 함수\n",
        "def plot_acc(train_accs, test_accs, title, label1='train', label2='test'):\n",
        "  x = np.arange(len(train_accs))\n",
        "\n",
        "  plt.plot(x, train_accs, label=label1)\n",
        "  plt.plot(x, test_accs, label=label2)\n",
        "  plt.xlabel('Epoch')\n",
        "  plt.ylabel('Accuracy')\n",
        "  plt.title(title)\n",
        "  plt.legend()\n",
        "  plt.show()\n",
        "\n",
        "# 정확도 플롯 그리기\n",
        "plot_acc(train_accs_leaky_relu_dropout, test_accs_leaky_relu_dropout, title='Leaky ReLU with Dropout')\n"
      ],
      "metadata": {
        "colab": {
          "base_uri": "https://localhost:8080/",
          "height": 472
        },
        "id": "IBd0djmALkH4",
        "outputId": "f564a637-77da-4b5d-9e27-c1ec83d804f7"
      },
      "execution_count": 11,
      "outputs": [
        {
          "output_type": "display_data",
          "data": {
            "text/plain": [
              "<Figure size 640x480 with 1 Axes>"
            ],
            "image/png": "[encoded data removed]"
          },
          "metadata": {}
        }
      ]
    }
  ]
}