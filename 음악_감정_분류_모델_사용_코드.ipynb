{
  "cells": [
    {
      "cell_type": "markdown",
      "metadata": {
        "id": "view-in-github",
        "colab_type": "text"
      },
      "source": [
        "<a href=\"https://colab.research.google.com/github/jhyeon-kim/ai_study/blob/main/%EC%9D%8C%EC%95%85_%EA%B0%90%EC%A0%95_%EB%B6%84%EB%A5%98_%EB%AA%A8%EB%8D%B8_%EC%82%AC%EC%9A%A9_%EC%BD%94%EB%93%9C.ipynb\" target=\"_parent\"><img src=\"https://colab.research.google.com/assets/colab-badge.svg\" alt=\"Open In Colab\"/></a>"
      ]
    },
    {
      "cell_type": "code",
      "execution_count": 1,
      "metadata": {
        "colab": {
          "base_uri": "https://localhost:8080/"
        },
        "id": "yVWg-WwAwk-_",
        "outputId": "3a20ecea-6f0a-491d-fba4-9d3c03716a01"
      },
      "outputs": [
        {
          "output_type": "stream",
          "name": "stdout",
          "text": [
            "Requirement already satisfied: torch in /usr/local/lib/python3.10/dist-packages (2.4.1+cu121)\n",
            "Requirement already satisfied: torchvision in /usr/local/lib/python3.10/dist-packages (0.19.1+cu121)\n",
            "Requirement already satisfied: torchaudio in /usr/local/lib/python3.10/dist-packages (2.4.1+cu121)\n",
            "Requirement already satisfied: filelock in /usr/local/lib/python3.10/dist-packages (from torch) (3.16.1)\n",
            "Requirement already satisfied: typing-extensions>=4.8.0 in /usr/local/lib/python3.10/dist-packages (from torch) (4.12.2)\n",
            "Requirement already satisfied: sympy in /usr/local/lib/python3.10/dist-packages (from torch) (1.13.3)\n",
            "Requirement already satisfied: networkx in /usr/local/lib/python3.10/dist-packages (from torch) (3.4.1)\n",
            "Requirement already satisfied: jinja2 in /usr/local/lib/python3.10/dist-packages (from torch) (3.1.4)\n",
            "Requirement already satisfied: fsspec in /usr/local/lib/python3.10/dist-packages (from torch) (2024.6.1)\n",
            "Requirement already satisfied: numpy in /usr/local/lib/python3.10/dist-packages (from torchvision) (1.26.4)\n",
            "Requirement already satisfied: pillow!=8.3.*,>=5.3.0 in /usr/local/lib/python3.10/dist-packages (from torchvision) (10.4.0)\n",
            "Requirement already satisfied: MarkupSafe>=2.0 in /usr/local/lib/python3.10/dist-packages (from jinja2->torch) (3.0.1)\n",
            "Requirement already satisfied: mpmath<1.4,>=1.1.0 in /usr/local/lib/python3.10/dist-packages (from sympy->torch) (1.3.0)\n"
          ]
        }
      ],
      "source": [
        "!pip install torch torchvision torchaudio"
      ]
    },
    {
      "cell_type": "code",
      "execution_count": 2,
      "metadata": {
        "id": "VmHCT5lgvS6F"
      },
      "outputs": [],
      "source": [
        "import torch\n",
        "import torchaudio\n",
        "import numpy as np\n",
        "import matplotlib.pyplot as plt\n",
        "import torch.nn.functional as F\n",
        "from transformers import AutoModelForSequenceClassification\n",
        "\n",
        "# 감정 범주 정의 (각 레이블에 해당하는 감정 이름)\n",
        "emotion_labels = [\"😡 Angry\", \"😱 Fear\", \"😃 Happy\", \"😊 Tender\", \"😢 Sad\"]\n",
        "\n",
        "# Hugging Face에서 모델을 불러와 예측하는 함수\n",
        "def predict_emotion_from_audio(model, audio_file_path, target_sample_rate=16000, segment_length=80000):\n",
        "    model.eval()  # 평가 모드로 설정\n",
        "\n",
        "    # 오디오 파일 로드\n",
        "    waveform, sample_rate = torchaudio.load(audio_file_path)\n",
        "\n",
        "    # 리샘플링 (필요한 경우)\n",
        "    if sample_rate != target_sample_rate:\n",
        "        waveform = torchaudio.transforms.Resample(orig_freq=sample_rate, new_freq=target_sample_rate)(waveform)\n",
        "\n",
        "    # 스테레오 데이터를 모노로 변환\n",
        "    if waveform.shape[0] > 1:\n",
        "        waveform = waveform.mean(dim=0, keepdim=True)\n",
        "\n",
        "    # 5초 분량이 아니면 자르거나 패딩 (필요시)\n",
        "    if waveform.shape[1] > segment_length:\n",
        "        waveform = waveform[:, :segment_length]\n",
        "    else:\n",
        "        pad_size = segment_length - waveform.shape[1]\n",
        "        waveform = torch.nn.functional.pad(waveform, (0, pad_size))\n",
        "\n",
        "    # Mel Spectrogram 변환\n",
        "    mel_spectrogram = torchaudio.transforms.MelSpectrogram(sample_rate=target_sample_rate, n_mels=64)\n",
        "    spec = mel_spectrogram(waveform)\n",
        "\n",
        "    # 차원 맞추기 (batch dimension 추가)\n",
        "    spec = spec.unsqueeze(0)  # [1, 1, n_mels, time]\n",
        "\n",
        "    # 모델에 입력하고 예측\n",
        "    with torch.no_grad():\n",
        "        output = model(spec.to(device))\n",
        "        probabilities = F.softmax(output, dim=1)  # 확률로 변환\n",
        "        _, predicted = torch.max(output, 1)  # 가장 높은 확률의 감정 선택\n",
        "\n",
        "    # 결과 출력\n",
        "    predicted_emotion = emotion_labels[predicted.item()]\n",
        "    class_probabilities = probabilities.cpu().numpy()[0]\n",
        "\n",
        "    print(f\"Predicted Emotion: {predicted_emotion}\")\n",
        "    print(\"Probabilities for each emotion category:\")\n",
        "    for idx, label in enumerate(emotion_labels):\n",
        "        print(f\"{label}: {class_probabilities[idx]:.2f}\")\n",
        "\n",
        "    # 막대 그래프로 감정별 확률 시각화\n",
        "    display_emotion_probabilities(class_probabilities, emotion_labels)\n",
        "\n",
        "# 감정별 확률을 시각화하는 함수\n",
        "def display_emotion_probabilities(probabilities, emotion_labels):\n",
        "    plt.figure(figsize=(8, 5))\n",
        "    plt.bar(emotion_labels, probabilities, color='skyblue')\n",
        "    plt.ylim([0, 1])\n",
        "    plt.title(\"Emotion Prediction Probabilities\")\n",
        "    plt.xlabel(\"Emotion\")\n",
        "    plt.ylabel(\"Probability\")\n",
        "    plt.show()"
      ]
    },
    {
      "cell_type": "code",
      "execution_count": 3,
      "metadata": {
        "id": "NuMYqyusxrfU"
      },
      "outputs": [],
      "source": [
        "import torch.nn as nn\n",
        "import torch.nn.functional as F\n",
        "class CNNEmotionClassifier(nn.Module):\n",
        "    def __init__(self, num_classes=5):  # 감정 분류 클래스 수\n",
        "        super(CNNEmotionClassifier, self).__init__()\n",
        "\n",
        "        # CNN Layer\n",
        "        self.conv1 = nn.Conv2d(in_channels=1, out_channels=32, kernel_size=3, stride=1, padding=1)\n",
        "        self.conv2 = nn.Conv2d(in_channels=32, out_channels=64, kernel_size=3, stride=1, padding=1)\n",
        "        self.conv3 = nn.Conv2d(in_channels=64, out_channels=128, kernel_size=3, stride=1, padding=1)\n",
        "        self.pool = nn.MaxPool2d(kernel_size=2, stride=2, padding=0)\n",
        "        self.dropout = nn.Dropout(0.3)\n",
        "\n",
        "        # Fully connected layer\n",
        "        self.fc1 = nn.Linear(128 * 8 * 50, 256)  # 128 * 8 * 50 = 51200\n",
        "        self.fc2 = nn.Linear(256, num_classes)  # 감정 분류 레이블 수\n",
        "\n",
        "    def forward(self, x):\n",
        "        # 입력 데이터 크기: [batch_size, 1, 64, time]\n",
        "        x = self.pool(F.relu(self.conv1(x)))  # (N, 32, 64, time/2)\n",
        "        x = self.pool(F.relu(self.conv2(x)))  # (N, 64, 32, time/4)\n",
        "        x = self.pool(F.relu(self.conv3(x)))  # (N, 128, 16, time/8)\n",
        "\n",
        "        # CNN 출력 후 크기 출력\n",
        "        # print(f\"After conv3: {x.shape}\")\n",
        "\n",
        "        # Flatten: Conv 레이어의 출력을 1D로 변환\n",
        "        x = x.view(x.size(0), -1)  # Flatten (N, 128 * 8 * 50 = 51200)\n",
        "        # print(f\"After flatten: {x.shape}\")\n",
        "\n",
        "        # Fully connected layer\n",
        "        x = F.relu(self.fc1(x))\n",
        "        x = self.fc2(x)\n",
        "        return x\n"
      ]
    },
    {
      "cell_type": "code",
      "source": [
        "from huggingface_hub import hf_hub_download\n",
        "import torch\n",
        "\n",
        "# GPU가 사용 가능하면 GPU로 모델 이동\n",
        "device = torch.device('cuda' if torch.cuda.is_available() else 'cpu')\n",
        "\n",
        "# Hugging Face 저장소에서 PyTorch 모델 불러오기\n",
        "model_name = \"jeonghyeon97/music_emontion_classifier_4\"\n",
        "filename = \"pytorch_model.bin\"  # 업로드한 파일 이름\n",
        "\n",
        "# Hugging Face Hub에서 모델 다운로드\n",
        "model_path = hf_hub_download(repo_id=model_name, filename=filename)\n",
        "\n",
        "# 모델 로드\n",
        "model = CNNEmotionClassifier(num_classes=5)\n",
        "model.load_state_dict(torch.load(model_path))\n",
        "model.to(device)\n"
      ],
      "metadata": {
        "colab": {
          "base_uri": "https://localhost:8080/",
          "height": 374,
          "referenced_widgets": [
            "3de7e533de764df2b3b944a6edaf3bbd",
            "2869c22cc435485fa011e9ad76f2d112",
            "f0a14afa9143444ca68984e0a2b5c367",
            "156b2ce227724f9eac6f9483af1f2fa4",
            "781ca406c4ef44ada349eeccb5f6a976",
            "e6de06263ca14ad9a42bf59042fe1f58",
            "9d3999d927d24eefa455947f7a7f4328",
            "74f0cee9c7d74de093effa252303ad3b",
            "bd171ee3f55649048ab760e91a56473e",
            "6fa8cafc80e244f1b309adb727aee565",
            "61830e5c8e1f49b8b77dcc618eceac33"
          ]
        },
        "id": "CPINIdF3AzKf",
        "outputId": "3cf2206b-25e6-46bd-e924-c22973736867"
      },
      "execution_count": 4,
      "outputs": [
        {
          "output_type": "stream",
          "name": "stderr",
          "text": [
            "/usr/local/lib/python3.10/dist-packages/huggingface_hub/utils/_token.py:89: UserWarning: \n",
            "The secret `HF_TOKEN` does not exist in your Colab secrets.\n",
            "To authenticate with the Hugging Face Hub, create a token in your settings tab (https://huggingface.co/settings/tokens), set it as secret in your Google Colab and restart your session.\n",
            "You will be able to reuse this secret in all of your notebooks.\n",
            "Please note that authentication is recommended but still optional to access public models or datasets.\n",
            "  warnings.warn(\n"
          ]
        },
        {
          "output_type": "display_data",
          "data": {
            "text/plain": [
              "pytorch_model.bin:   0%|          | 0.00/52.8M [00:00<?, ?B/s]"
            ],
            "application/vnd.jupyter.widget-view+json": {
              "version_major": 2,
              "version_minor": 0,
              "model_id": "3de7e533de764df2b3b944a6edaf3bbd"
            }
          },
          "metadata": {}
        },
        {
          "output_type": "stream",
          "name": "stderr",
          "text": [
            "<ipython-input-4-e15409942a3b>:16: FutureWarning: You are using `torch.load` with `weights_only=False` (the current default value), which uses the default pickle module implicitly. It is possible to construct malicious pickle data which will execute arbitrary code during unpickling (See https://github.com/pytorch/pytorch/blob/main/SECURITY.md#untrusted-models for more details). In a future release, the default value for `weights_only` will be flipped to `True`. This limits the functions that could be executed during unpickling. Arbitrary objects will no longer be allowed to be loaded via this mode unless they are explicitly allowlisted by the user via `torch.serialization.add_safe_globals`. We recommend you start setting `weights_only=True` for any use case where you don't have full control of the loaded file. Please open an issue on GitHub for any issues related to this experimental feature.\n",
            "  model.load_state_dict(torch.load(model_path))\n"
          ]
        },
        {
          "output_type": "execute_result",
          "data": {
            "text/plain": [
              "CNNEmotionClassifier(\n",
              "  (conv1): Conv2d(1, 32, kernel_size=(3, 3), stride=(1, 1), padding=(1, 1))\n",
              "  (conv2): Conv2d(32, 64, kernel_size=(3, 3), stride=(1, 1), padding=(1, 1))\n",
              "  (conv3): Conv2d(64, 128, kernel_size=(3, 3), stride=(1, 1), padding=(1, 1))\n",
              "  (pool): MaxPool2d(kernel_size=2, stride=2, padding=0, dilation=1, ceil_mode=False)\n",
              "  (dropout): Dropout(p=0.3, inplace=False)\n",
              "  (fc1): Linear(in_features=51200, out_features=256, bias=True)\n",
              "  (fc2): Linear(in_features=256, out_features=5, bias=True)\n",
              ")"
            ]
          },
          "metadata": {},
          "execution_count": 4
        }
      ]
    },
    {
      "cell_type": "code",
      "source": [
        "audio_file_path = \"/content/smile.mp3\"\n",
        "predict_emotion_from_audio(model, audio_file_path)"
      ],
      "metadata": {
        "colab": {
          "base_uri": "https://localhost:8080/",
          "height": 612
        },
        "id": "XeuvyRvHA4zM",
        "outputId": "73f1beb9-1da2-41b3-a779-3e523f19aec1"
      },
      "execution_count": 6,
      "outputs": [
        {
          "output_type": "stream",
          "name": "stdout",
          "text": [
            "Predicted Emotion: 😃 Happy\n",
            "Probabilities for each emotion category:\n",
            "😡 Angry: 0.01\n",
            "😱 Fear: 0.00\n",
            "😃 Happy: 0.72\n",
            "😊 Tender: 0.26\n",
            "😢 Sad: 0.00\n"
          ]
        },
        {
          "output_type": "display_data",
          "data": {
            "text/plain": [
              "<Figure size 800x500 with 1 Axes>"
            ],
            "image/png": "[encoded data removed]"
          },
          "metadata": {}
        }
      ]
    }
  ],
  "metadata": {
    "accelerator": "GPU",
    "colab": {
      "gpuType": "A100",
      "machine_shape": "hm",
      "provenance": [],
      "authorship_tag": "ABX9TyNjME3AZlE8rUzu+lg+cHzq",
      "include_colab_link": true
    },
    "kernelspec": {
      "display_name": "Python 3",
      "name": "python3"
    },
    "language_info": {
      "name": "python"
    },
    "widgets": {
      "application/vnd.jupyter.widget-state+json": {
        "3de7e533de764df2b3b944a6edaf3bbd": {
          "model_module": "@jupyter-widgets/controls",
          "model_name": "HBoxModel",
          "model_module_version": "1.5.0",
          "state": {
            "_dom_classes": [],
            "_model_module": "@jupyter-widgets/controls",
            "_model_module_version": "1.5.0",
            "_model_name": "HBoxModel",
            "_view_count": null,
            "_view_module": "@jupyter-widgets/controls",
            "_view_module_version": "1.5.0",
            "_view_name": "HBoxView",
            "box_style": "",
            "children": [
              "IPY_MODEL_2869c22cc435485fa011e9ad76f2d112",
              "IPY_MODEL_f0a14afa9143444ca68984e0a2b5c367",
              "IPY_MODEL_156b2ce227724f9eac6f9483af1f2fa4"
            ],
            "layout": "IPY_MODEL_781ca406c4ef44ada349eeccb5f6a976"
          }
        },
        "2869c22cc435485fa011e9ad76f2d112": {
          "model_module": "@jupyter-widgets/controls",
          "model_name": "HTMLModel",
          "model_module_version": "1.5.0",
          "state": {
            "_dom_classes": [],
            "_model_module": "@jupyter-widgets/controls",
            "_model_module_version": "1.5.0",
            "_model_name": "HTMLModel",
            "_view_count": null,
            "_view_module": "@jupyter-widgets/controls",
            "_view_module_version": "1.5.0",
            "_view_name": "HTMLView",
            "description": "",
            "description_tooltip": null,
            "layout": "IPY_MODEL_e6de06263ca14ad9a42bf59042fe1f58",
            "placeholder": "​",
            "style": "IPY_MODEL_9d3999d927d24eefa455947f7a7f4328",
            "value": "pytorch_model.bin: 100%"
          }
        },
        "f0a14afa9143444ca68984e0a2b5c367": {
          "model_module": "@jupyter-widgets/controls",
          "model_name": "FloatProgressModel",
          "model_module_version": "1.5.0",
          "state": {
            "_dom_classes": [],
            "_model_module": "@jupyter-widgets/controls",
            "_model_module_version": "1.5.0",
            "_model_name": "FloatProgressModel",
            "_view_count": null,
            "_view_module": "@jupyter-widgets/controls",
            "_view_module_version": "1.5.0",
            "_view_name": "ProgressView",
            "bar_style": "success",
            "description": "",
            "description_tooltip": null,
            "layout": "IPY_MODEL_74f0cee9c7d74de093effa252303ad3b",
            "max": 52809998,
            "min": 0,
            "orientation": "horizontal",
            "style": "IPY_MODEL_bd171ee3f55649048ab760e91a56473e",
            "value": 52809998
          }
        },
        "156b2ce227724f9eac6f9483af1f2fa4": {
          "model_module": "@jupyter-widgets/controls",
          "model_name": "HTMLModel",
          "model_module_version": "1.5.0",
          "state": {
            "_dom_classes": [],
            "_model_module": "@jupyter-widgets/controls",
            "_model_module_version": "1.5.0",
            "_model_name": "HTMLModel",
            "_view_count": null,
            "_view_module": "@jupyter-widgets/controls",
            "_view_module_version": "1.5.0",
            "_view_name": "HTMLView",
            "description": "",
            "description_tooltip": null,
            "layout": "IPY_MODEL_6fa8cafc80e244f1b309adb727aee565",
            "placeholder": "​",
            "style": "IPY_MODEL_61830e5c8e1f49b8b77dcc618eceac33",
            "value": " 52.8M/52.8M [00:00&lt;00:00, 81.1MB/s]"
          }
        },
        "781ca406c4ef44ada349eeccb5f6a976": {
          "model_module": "@jupyter-widgets/base",
          "model_name": "LayoutModel",
          "model_module_version": "1.2.0",
          "state": {
            "_model_module": "@jupyter-widgets/base",
            "_model_module_version": "1.2.0",
            "_model_name": "LayoutModel",
            "_view_count": null,
            "_view_module": "@jupyter-widgets/base",
            "_view_module_version": "1.2.0",
            "_view_name": "LayoutView",
            "align_content": null,
            "align_items": null,
            "align_self": null,
            "border": null,
            "bottom": null,
            "display": null,
            "flex": null,
            "flex_flow": null,
            "grid_area": null,
            "grid_auto_columns": null,
            "grid_auto_flow": null,
            "grid_auto_rows": null,
            "grid_column": null,
            "grid_gap": null,
            "grid_row": null,
            "grid_template_areas": null,
            "grid_template_columns": null,
            "grid_template_rows": null,
            "height": null,
            "justify_content": null,
            "justify_items": null,
            "left": null,
            "margin": null,
            "max_height": null,
            "max_width": null,
            "min_height": null,
            "min_width": null,
            "object_fit": null,
            "object_position": null,
            "order": null,
            "overflow": null,
            "overflow_x": null,
            "overflow_y": null,
            "padding": null,
            "right": null,
            "top": null,
            "visibility": null,
            "width": null
          }
        },
        "e6de06263ca14ad9a42bf59042fe1f58": {
          "model_module": "@jupyter-widgets/base",
          "model_name": "LayoutModel",
          "model_module_version": "1.2.0",
          "state": {
            "_model_module": "@jupyter-widgets/base",
            "_model_module_version": "1.2.0",
            "_model_name": "LayoutModel",
            "_view_count": null,
            "_view_module": "@jupyter-widgets/base",
            "_view_module_version": "1.2.0",
            "_view_name": "LayoutView",
            "align_content": null,
            "align_items": null,
            "align_self": null,
            "border": null,
            "bottom": null,
            "display": null,
            "flex": null,
            "flex_flow": null,
            "grid_area": null,
            "grid_auto_columns": null,
            "grid_auto_flow": null,
            "grid_auto_rows": null,
            "grid_column": null,
            "grid_gap": null,
            "grid_row": null,
            "grid_template_areas": null,
            "grid_template_columns": null,
            "grid_template_rows": null,
            "height": null,
            "justify_content": null,
            "justify_items": null,
            "left": null,
            "margin": null,
            "max_height": null,
            "max_width": null,
            "min_height": null,
            "min_width": null,
            "object_fit": null,
            "object_position": null,
            "order": null,
            "overflow": null,
            "overflow_x": null,
            "overflow_y": null,
            "padding": null,
            "right": null,
            "top": null,
            "visibility": null,
            "width": null
          }
        },
        "9d3999d927d24eefa455947f7a7f4328": {
          "model_module": "@jupyter-widgets/controls",
          "model_name": "DescriptionStyleModel",
          "model_module_version": "1.5.0",
          "state": {
            "_model_module": "@jupyter-widgets/controls",
            "_model_module_version": "1.5.0",
            "_model_name": "DescriptionStyleModel",
            "_view_count": null,
            "_view_module": "@jupyter-widgets/base",
            "_view_module_version": "1.2.0",
            "_view_name": "StyleView",
            "description_width": ""
          }
        },
        "74f0cee9c7d74de093effa252303ad3b": {
          "model_module": "@jupyter-widgets/base",
          "model_name": "LayoutModel",
          "model_module_version": "1.2.0",
          "state": {
            "_model_module": "@jupyter-widgets/base",
            "_model_module_version": "1.2.0",
            "_model_name": "LayoutModel",
            "_view_count": null,
            "_view_module": "@jupyter-widgets/base",
            "_view_module_version": "1.2.0",
            "_view_name": "LayoutView",
            "align_content": null,
            "align_items": null,
            "align_self": null,
            "border": null,
            "bottom": null,
            "display": null,
            "flex": null,
            "flex_flow": null,
            "grid_area": null,
            "grid_auto_columns": null,
            "grid_auto_flow": null,
            "grid_auto_rows": null,
            "grid_column": null,
            "grid_gap": null,
            "grid_row": null,
            "grid_template_areas": null,
            "grid_template_columns": null,
            "grid_template_rows": null,
            "height": null,
            "justify_content": null,
            "justify_items": null,
            "left": null,
            "margin": null,
            "max_height": null,
            "max_width": null,
            "min_height": null,
            "min_width": null,
            "object_fit": null,
            "object_position": null,
            "order": null,
            "overflow": null,
            "overflow_x": null,
            "overflow_y": null,
            "padding": null,
            "right": null,
            "top": null,
            "visibility": null,
            "width": null
          }
        },
        "bd171ee3f55649048ab760e91a56473e": {
          "model_module": "@jupyter-widgets/controls",
          "model_name": "ProgressStyleModel",
          "model_module_version": "1.5.0",
          "state": {
            "_model_module": "@jupyter-widgets/controls",
            "_model_module_version": "1.5.0",
            "_model_name": "ProgressStyleModel",
            "_view_count": null,
            "_view_module": "@jupyter-widgets/base",
            "_view_module_version": "1.2.0",
            "_view_name": "StyleView",
            "bar_color": null,
            "description_width": ""
          }
        },
        "6fa8cafc80e244f1b309adb727aee565": {
          "model_module": "@jupyter-widgets/base",
          "model_name": "LayoutModel",
          "model_module_version": "1.2.0",
          "state": {
            "_model_module": "@jupyter-widgets/base",
            "_model_module_version": "1.2.0",
            "_model_name": "LayoutModel",
            "_view_count": null,
            "_view_module": "@jupyter-widgets/base",
            "_view_module_version": "1.2.0",
            "_view_name": "LayoutView",
            "align_content": null,
            "align_items": null,
            "align_self": null,
            "border": null,
            "bottom": null,
            "display": null,
            "flex": null,
            "flex_flow": null,
            "grid_area": null,
            "grid_auto_columns": null,
            "grid_auto_flow": null,
            "grid_auto_rows": null,
            "grid_column": null,
            "grid_gap": null,
            "grid_row": null,
            "grid_template_areas": null,
            "grid_template_columns": null,
            "grid_template_rows": null,
            "height": null,
            "justify_content": null,
            "justify_items": null,
            "left": null,
            "margin": null,
            "max_height": null,
            "max_width": null,
            "min_height": null,
            "min_width": null,
            "object_fit": null,
            "object_position": null,
            "order": null,
            "overflow": null,
            "overflow_x": null,
            "overflow_y": null,
            "padding": null,
            "right": null,
            "top": null,
            "visibility": null,
            "width": null
          }
        },
        "61830e5c8e1f49b8b77dcc618eceac33": {
          "model_module": "@jupyter-widgets/controls",
          "model_name": "DescriptionStyleModel",
          "model_module_version": "1.5.0",
          "state": {
            "_model_module": "@jupyter-widgets/controls",
            "_model_module_version": "1.5.0",
            "_model_name": "DescriptionStyleModel",
            "_view_count": null,
            "_view_module": "@jupyter-widgets/base",
            "_view_module_version": "1.2.0",
            "_view_name": "StyleView",
            "description_width": ""
          }
        }
      }
    }
  },
  "nbformat": 4,
  "nbformat_minor": 0
}