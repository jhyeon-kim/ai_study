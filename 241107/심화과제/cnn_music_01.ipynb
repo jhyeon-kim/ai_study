{
  "nbformat": 4,
  "nbformat_minor": 0,
  "metadata": {
    "colab": {
      "provenance": [],
      "machine_shape": "hm",
      "gpuType": "A100",
      "authorship_tag": "ABX9TyM61JBURBp6P5cGV3mC0n5A",
      "include_colab_link": true
    },
    "kernelspec": {
      "name": "python3",
      "display_name": "Python 3"
    },
    "language_info": {
      "name": "python"
    },
    "accelerator": "GPU",
    "widgets": {
      "application/vnd.jupyter.widget-state+json": {
        "35102a78f32d4ddcac507d7a7f261ed4": {
          "model_module": "@jupyter-widgets/controls",
          "model_name": "VBoxModel",
          "model_module_version": "1.5.0",
          "state": {
            "_dom_classes": [],
            "_model_module": "@jupyter-widgets/controls",
            "_model_module_version": "1.5.0",
            "_model_name": "VBoxModel",
            "_view_count": null,
            "_view_module": "@jupyter-widgets/controls",
            "_view_module_version": "1.5.0",
            "_view_name": "VBoxView",
            "box_style": "",
            "children": [
              "IPY_MODEL_e8e96a86fa64417198b2a833ea008e26",
              "IPY_MODEL_c45817e2df844439924249f54ed178e7"
            ],
            "layout": "IPY_MODEL_721fce4ee7bb443e92402d8b3ef90edc"
          }
        },
        "e8e96a86fa64417198b2a833ea008e26": {
          "model_module": "@jupyter-widgets/controls",
          "model_name": "LabelModel",
          "model_module_version": "1.5.0",
          "state": {
            "_dom_classes": [],
            "_model_module": "@jupyter-widgets/controls",
            "_model_module_version": "1.5.0",
            "_model_name": "LabelModel",
            "_view_count": null,
            "_view_module": "@jupyter-widgets/controls",
            "_view_module_version": "1.5.0",
            "_view_name": "LabelView",
            "description": "",
            "description_tooltip": null,
            "layout": "IPY_MODEL_87cb801b54e7402a94efe71656a80b2a",
            "placeholder": "​",
            "style": "IPY_MODEL_e3f913767d0a4cf4aae4b4e7b0ee66c6",
            "value": "Waiting for wandb.init()...\r"
          }
        },
        "c45817e2df844439924249f54ed178e7": {
          "model_module": "@jupyter-widgets/controls",
          "model_name": "FloatProgressModel",
          "model_module_version": "1.5.0",
          "state": {
            "_dom_classes": [],
            "_model_module": "@jupyter-widgets/controls",
            "_model_module_version": "1.5.0",
            "_model_name": "FloatProgressModel",
            "_view_count": null,
            "_view_module": "@jupyter-widgets/controls",
            "_view_module_version": "1.5.0",
            "_view_name": "ProgressView",
            "bar_style": "",
            "description": "",
            "description_tooltip": null,
            "layout": "IPY_MODEL_44286af6dce54b60b86f05610c332843",
            "max": 1,
            "min": 0,
            "orientation": "horizontal",
            "style": "IPY_MODEL_bc97956dfb81468ebfe28329534c1987",
            "value": 1
          }
        },
        "721fce4ee7bb443e92402d8b3ef90edc": {
          "model_module": "@jupyter-widgets/base",
          "model_name": "LayoutModel",
          "model_module_version": "1.2.0",
          "state": {
            "_model_module": "@jupyter-widgets/base",
            "_model_module_version": "1.2.0",
            "_model_name": "LayoutModel",
            "_view_count": null,
            "_view_module": "@jupyter-widgets/base",
            "_view_module_version": "1.2.0",
            "_view_name": "LayoutView",
            "align_content": null,
            "align_items": null,
            "align_self": null,
            "border": null,
            "bottom": null,
            "display": null,
            "flex": null,
            "flex_flow": null,
            "grid_area": null,
            "grid_auto_columns": null,
            "grid_auto_flow": null,
            "grid_auto_rows": null,
            "grid_column": null,
            "grid_gap": null,
            "grid_row": null,
            "grid_template_areas": null,
            "grid_template_columns": null,
            "grid_template_rows": null,
            "height": null,
            "justify_content": null,
            "justify_items": null,
            "left": null,
            "margin": null,
            "max_height": null,
            "max_width": null,
            "min_height": null,
            "min_width": null,
            "object_fit": null,
            "object_position": null,
            "order": null,
            "overflow": null,
            "overflow_x": null,
            "overflow_y": null,
            "padding": null,
            "right": null,
            "top": null,
            "visibility": null,
            "width": null
          }
        },
        "87cb801b54e7402a94efe71656a80b2a": {
          "model_module": "@jupyter-widgets/base",
          "model_name": "LayoutModel",
          "model_module_version": "1.2.0",
          "state": {
            "_model_module": "@jupyter-widgets/base",
            "_model_module_version": "1.2.0",
            "_model_name": "LayoutModel",
            "_view_count": null,
            "_view_module": "@jupyter-widgets/base",
            "_view_module_version": "1.2.0",
            "_view_name": "LayoutView",
            "align_content": null,
            "align_items": null,
            "align_self": null,
            "border": null,
            "bottom": null,
            "display": null,
            "flex": null,
            "flex_flow": null,
            "grid_area": null,
            "grid_auto_columns": null,
            "grid_auto_flow": null,
            "grid_auto_rows": null,
            "grid_column": null,
            "grid_gap": null,
            "grid_row": null,
            "grid_template_areas": null,
            "grid_template_columns": null,
            "grid_template_rows": null,
            "height": null,
            "justify_content": null,
            "justify_items": null,
            "left": null,
            "margin": null,
            "max_height": null,
            "max_width": null,
            "min_height": null,
            "min_width": null,
            "object_fit": null,
            "object_position": null,
            "order": null,
            "overflow": null,
            "overflow_x": null,
            "overflow_y": null,
            "padding": null,
            "right": null,
            "top": null,
            "visibility": null,
            "width": null
          }
        },
        "e3f913767d0a4cf4aae4b4e7b0ee66c6": {
          "model_module": "@jupyter-widgets/controls",
          "model_name": "DescriptionStyleModel",
          "model_module_version": "1.5.0",
          "state": {
            "_model_module": "@jupyter-widgets/controls",
            "_model_module_version": "1.5.0",
            "_model_name": "DescriptionStyleModel",
            "_view_count": null,
            "_view_module": "@jupyter-widgets/base",
            "_view_module_version": "1.2.0",
            "_view_name": "StyleView",
            "description_width": ""
          }
        },
        "44286af6dce54b60b86f05610c332843": {
          "model_module": "@jupyter-widgets/base",
          "model_name": "LayoutModel",
          "model_module_version": "1.2.0",
          "state": {
            "_model_module": "@jupyter-widgets/base",
            "_model_module_version": "1.2.0",
            "_model_name": "LayoutModel",
            "_view_count": null,
            "_view_module": "@jupyter-widgets/base",
            "_view_module_version": "1.2.0",
            "_view_name": "LayoutView",
            "align_content": null,
            "align_items": null,
            "align_self": null,
            "border": null,
            "bottom": null,
            "display": null,
            "flex": null,
            "flex_flow": null,
            "grid_area": null,
            "grid_auto_columns": null,
            "grid_auto_flow": null,
            "grid_auto_rows": null,
            "grid_column": null,
            "grid_gap": null,
            "grid_row": null,
            "grid_template_areas": null,
            "grid_template_columns": null,
            "grid_template_rows": null,
            "height": null,
            "justify_content": null,
            "justify_items": null,
            "left": null,
            "margin": null,
            "max_height": null,
            "max_width": null,
            "min_height": null,
            "min_width": null,
            "object_fit": null,
            "object_position": null,
            "order": null,
            "overflow": null,
            "overflow_x": null,
            "overflow_y": null,
            "padding": null,
            "right": null,
            "top": null,
            "visibility": null,
            "width": null
          }
        },
        "bc97956dfb81468ebfe28329534c1987": {
          "model_module": "@jupyter-widgets/controls",
          "model_name": "ProgressStyleModel",
          "model_module_version": "1.5.0",
          "state": {
            "_model_module": "@jupyter-widgets/controls",
            "_model_module_version": "1.5.0",
            "_model_name": "ProgressStyleModel",
            "_view_count": null,
            "_view_module": "@jupyter-widgets/base",
            "_view_module_version": "1.2.0",
            "_view_name": "StyleView",
            "bar_color": null,
            "description_width": ""
          }
        },
        "f6183ea0e8314e0e9ca1ceae59d65579": {
          "model_module": "@jupyter-widgets/controls",
          "model_name": "VBoxModel",
          "model_module_version": "1.5.0",
          "state": {
            "_dom_classes": [],
            "_model_module": "@jupyter-widgets/controls",
            "_model_module_version": "1.5.0",
            "_model_name": "VBoxModel",
            "_view_count": null,
            "_view_module": "@jupyter-widgets/controls",
            "_view_module_version": "1.5.0",
            "_view_name": "VBoxView",
            "box_style": "",
            "children": [
              "IPY_MODEL_11d760b4b5f441888151318fe760cf89",
              "IPY_MODEL_1813e7c2e13649bda83195e6f8146cfa"
            ],
            "layout": "IPY_MODEL_5a56fe8df2114dc2baec4bd3fe0c1e27"
          }
        },
        "11d760b4b5f441888151318fe760cf89": {
          "model_module": "@jupyter-widgets/controls",
          "model_name": "LabelModel",
          "model_module_version": "1.5.0",
          "state": {
            "_dom_classes": [],
            "_model_module": "@jupyter-widgets/controls",
            "_model_module_version": "1.5.0",
            "_model_name": "LabelModel",
            "_view_count": null,
            "_view_module": "@jupyter-widgets/controls",
            "_view_module_version": "1.5.0",
            "_view_name": "LabelView",
            "description": "",
            "description_tooltip": null,
            "layout": "IPY_MODEL_92da2de8aef0493288c6a8f305235c08",
            "placeholder": "​",
            "style": "IPY_MODEL_ddd6eff1ef4a48878cf34d5170295de1",
            "value": "0.012 MB of 0.012 MB uploaded\r"
          }
        },
        "1813e7c2e13649bda83195e6f8146cfa": {
          "model_module": "@jupyter-widgets/controls",
          "model_name": "FloatProgressModel",
          "model_module_version": "1.5.0",
          "state": {
            "_dom_classes": [],
            "_model_module": "@jupyter-widgets/controls",
            "_model_module_version": "1.5.0",
            "_model_name": "FloatProgressModel",
            "_view_count": null,
            "_view_module": "@jupyter-widgets/controls",
            "_view_module_version": "1.5.0",
            "_view_name": "ProgressView",
            "bar_style": "",
            "description": "",
            "description_tooltip": null,
            "layout": "IPY_MODEL_a3524282972c4278acebb9353d12fcd7",
            "max": 1,
            "min": 0,
            "orientation": "horizontal",
            "style": "IPY_MODEL_fe6c3f9397824602bfcd9a2807343a9f",
            "value": 1
          }
        },
        "5a56fe8df2114dc2baec4bd3fe0c1e27": {
          "model_module": "@jupyter-widgets/base",
          "model_name": "LayoutModel",
          "model_module_version": "1.2.0",
          "state": {
            "_model_module": "@jupyter-widgets/base",
            "_model_module_version": "1.2.0",
            "_model_name": "LayoutModel",
            "_view_count": null,
            "_view_module": "@jupyter-widgets/base",
            "_view_module_version": "1.2.0",
            "_view_name": "LayoutView",
            "align_content": null,
            "align_items": null,
            "align_self": null,
            "border": null,
            "bottom": null,
            "display": null,
            "flex": null,
            "flex_flow": null,
            "grid_area": null,
            "grid_auto_columns": null,
            "grid_auto_flow": null,
            "grid_auto_rows": null,
            "grid_column": null,
            "grid_gap": null,
            "grid_row": null,
            "grid_template_areas": null,
            "grid_template_columns": null,
            "grid_template_rows": null,
            "height": null,
            "justify_content": null,
            "justify_items": null,
            "left": null,
            "margin": null,
            "max_height": null,
            "max_width": null,
            "min_height": null,
            "min_width": null,
            "object_fit": null,
            "object_position": null,
            "order": null,
            "overflow": null,
            "overflow_x": null,
            "overflow_y": null,
            "padding": null,
            "right": null,
            "top": null,
            "visibility": null,
            "width": null
          }
        },
        "92da2de8aef0493288c6a8f305235c08": {
          "model_module": "@jupyter-widgets/base",
          "model_name": "LayoutModel",
          "model_module_version": "1.2.0",
          "state": {
            "_model_module": "@jupyter-widgets/base",
            "_model_module_version": "1.2.0",
            "_model_name": "LayoutModel",
            "_view_count": null,
            "_view_module": "@jupyter-widgets/base",
            "_view_module_version": "1.2.0",
            "_view_name": "LayoutView",
            "align_content": null,
            "align_items": null,
            "align_self": null,
            "border": null,
            "bottom": null,
            "display": null,
            "flex": null,
            "flex_flow": null,
            "grid_area": null,
            "grid_auto_columns": null,
            "grid_auto_flow": null,
            "grid_auto_rows": null,
            "grid_column": null,
            "grid_gap": null,
            "grid_row": null,
            "grid_template_areas": null,
            "grid_template_columns": null,
            "grid_template_rows": null,
            "height": null,
            "justify_content": null,
            "justify_items": null,
            "left": null,
            "margin": null,
            "max_height": null,
            "max_width": null,
            "min_height": null,
            "min_width": null,
            "object_fit": null,
            "object_position": null,
            "order": null,
            "overflow": null,
            "overflow_x": null,
            "overflow_y": null,
            "padding": null,
            "right": null,
            "top": null,
            "visibility": null,
            "width": null
          }
        },
        "ddd6eff1ef4a48878cf34d5170295de1": {
          "model_module": "@jupyter-widgets/controls",
          "model_name": "DescriptionStyleModel",
          "model_module_version": "1.5.0",
          "state": {
            "_model_module": "@jupyter-widgets/controls",
            "_model_module_version": "1.5.0",
            "_model_name": "DescriptionStyleModel",
            "_view_count": null,
            "_view_module": "@jupyter-widgets/base",
            "_view_module_version": "1.2.0",
            "_view_name": "StyleView",
            "description_width": ""
          }
        },
        "a3524282972c4278acebb9353d12fcd7": {
          "model_module": "@jupyter-widgets/base",
          "model_name": "LayoutModel",
          "model_module_version": "1.2.0",
          "state": {
            "_model_module": "@jupyter-widgets/base",
            "_model_module_version": "1.2.0",
            "_model_name": "LayoutModel",
            "_view_count": null,
            "_view_module": "@jupyter-widgets/base",
            "_view_module_version": "1.2.0",
            "_view_name": "LayoutView",
            "align_content": null,
            "align_items": null,
            "align_self": null,
            "border": null,
            "bottom": null,
            "display": null,
            "flex": null,
            "flex_flow": null,
            "grid_area": null,
            "grid_auto_columns": null,
            "grid_auto_flow": null,
            "grid_auto_rows": null,
            "grid_column": null,
            "grid_gap": null,
            "grid_row": null,
            "grid_template_areas": null,
            "grid_template_columns": null,
            "grid_template_rows": null,
            "height": null,
            "justify_content": null,
            "justify_items": null,
            "left": null,
            "margin": null,
            "max_height": null,
            "max_width": null,
            "min_height": null,
            "min_width": null,
            "object_fit": null,
            "object_position": null,
            "order": null,
            "overflow": null,
            "overflow_x": null,
            "overflow_y": null,
            "padding": null,
            "right": null,
            "top": null,
            "visibility": null,
            "width": null
          }
        },
        "fe6c3f9397824602bfcd9a2807343a9f": {
          "model_module": "@jupyter-widgets/controls",
          "model_name": "ProgressStyleModel",
          "model_module_version": "1.5.0",
          "state": {
            "_model_module": "@jupyter-widgets/controls",
            "_model_module_version": "1.5.0",
            "_model_name": "ProgressStyleModel",
            "_view_count": null,
            "_view_module": "@jupyter-widgets/base",
            "_view_module_version": "1.2.0",
            "_view_name": "StyleView",
            "bar_color": null,
            "description_width": ""
          }
        }
      }
    }
  },
  "cells": [
    {
      "cell_type": "markdown",
      "metadata": {
        "id": "view-in-github",
        "colab_type": "text"
      },
      "source": [
        "<a href=\"https://colab.research.google.com/github/jhyeon-kim/ai_study/blob/main/241107/%EC%8B%AC%ED%99%94%EA%B3%BC%EC%A0%9C/cnn_music_01.ipynb\" target=\"_parent\"><img src=\"https://colab.research.google.com/assets/colab-badge.svg\" alt=\"Open In Colab\"/></a>"
      ]
    },
    {
      "cell_type": "markdown",
      "source": [
        "## 01. wandb, google drive 연결"
      ],
      "metadata": {
        "id": "_117BFBz7TsO"
      }
    },
    {
      "cell_type": "code",
      "source": [
        "# wandb 로그인\n",
        "import wandb\n",
        "wandb.login()  # 로그인 코드 추가"
      ],
      "metadata": {
        "colab": {
          "base_uri": "https://localhost:8080/",
          "height": 142
        },
        "id": "CE54nCzs6ysM",
        "outputId": "5e668ca5-d223-4f5b-e3c4-2cba512b6990"
      },
      "execution_count": 1,
      "outputs": [
        {
          "output_type": "stream",
          "name": "stderr",
          "text": [
            "\u001b[34m\u001b[1mwandb\u001b[0m: Using wandb-core as the SDK backend. Please refer to https://wandb.me/wandb-core for more information.\n"
          ]
        },
        {
          "output_type": "display_data",
          "data": {
            "text/plain": [
              "<IPython.core.display.Javascript object>"
            ],
            "application/javascript": [
              "\n",
              "        window._wandbApiKey = new Promise((resolve, reject) => {\n",
              "            function loadScript(url) {\n",
              "            return new Promise(function(resolve, reject) {\n",
              "                let newScript = document.createElement(\"script\");\n",
              "                newScript.onerror = reject;\n",
              "                newScript.onload = resolve;\n",
              "                document.body.appendChild(newScript);\n",
              "                newScript.src = url;\n",
              "            });\n",
              "            }\n",
              "            loadScript(\"https://cdn.jsdelivr.net/npm/postmate/build/postmate.min.js\").then(() => {\n",
              "            const iframe = document.createElement('iframe')\n",
              "            iframe.style.cssText = \"width:0;height:0;border:none\"\n",
              "            document.body.appendChild(iframe)\n",
              "            const handshake = new Postmate({\n",
              "                container: iframe,\n",
              "                url: 'https://wandb.ai/authorize'\n",
              "            });\n",
              "            const timeout = setTimeout(() => reject(\"Couldn't auto authenticate\"), 5000)\n",
              "            handshake.then(function(child) {\n",
              "                child.on('authorize', data => {\n",
              "                    clearTimeout(timeout)\n",
              "                    resolve(data)\n",
              "                });\n",
              "            });\n",
              "            })\n",
              "        });\n",
              "    "
            ]
          },
          "metadata": {}
        },
        {
          "output_type": "stream",
          "name": "stderr",
          "text": [
            "\u001b[34m\u001b[1mwandb\u001b[0m: Logging into wandb.ai. (Learn how to deploy a W&B server locally: https://wandb.me/wandb-server)\n",
            "\u001b[34m\u001b[1mwandb\u001b[0m: You can find your API key in your browser here: https://wandb.ai/authorize\n",
            "wandb: Paste an API key from your profile and hit enter, or press ctrl+c to quit:"
          ]
        },
        {
          "name": "stdout",
          "output_type": "stream",
          "text": [
            " ··········\n"
          ]
        },
        {
          "output_type": "stream",
          "name": "stderr",
          "text": [
            "\u001b[34m\u001b[1mwandb\u001b[0m: Appending key for api.wandb.ai to your netrc file: /root/.netrc\n"
          ]
        },
        {
          "output_type": "execute_result",
          "data": {
            "text/plain": [
              "True"
            ]
          },
          "metadata": {},
          "execution_count": 1
        }
      ]
    },
    {
      "cell_type": "code",
      "source": [
        "# Google Drive 마운트\n",
        "from google.colab import drive\n",
        "drive.mount('/content/drive')"
      ],
      "metadata": {
        "colab": {
          "base_uri": "https://localhost:8080/"
        },
        "id": "R5Qy6NGo63pz",
        "outputId": "848f2f74-452a-4e68-8ef2-1ade723ace2f"
      },
      "execution_count": 2,
      "outputs": [
        {
          "output_type": "stream",
          "name": "stdout",
          "text": [
            "Mounted at /content/drive\n"
          ]
        }
      ]
    },
    {
      "cell_type": "markdown",
      "source": [
        "## 02. 데이터 가져오기"
      ],
      "metadata": {
        "id": "m6OKLr227ZnI"
      }
    },
    {
      "cell_type": "code",
      "source": [
        "import pandas as pd\n",
        "import torchaudio\n",
        "import os\n",
        "from sklearn.model_selection import train_test_split\n",
        "\n",
        "\n",
        "# 첫 번째 CSV 파일 경로 (MER_audio_taffc_dataset)\n",
        "csv_file_path_1 = '/content/drive/MyDrive/sentiment_classification_projects_241014/music_sentiments_classification/MER_audio_taffc_dataset/songs_moods_labeled.csv'\n",
        "# 두 번째 CSV 파일 경로 (OSF_IO)\n",
        "csv_file_path_2 = '/content/drive/MyDrive/sentiment_classification_projects_241014/music_sentiments_classification/OSF_IO/set1_labeled.csv'\n",
        "\n",
        "# 첫 번째 데이터셋 로드\n",
        "data_1 = pd.read_csv(csv_file_path_1)\n",
        "# 두 번째 데이터셋 로드\n",
        "data_2 = pd.read_csv(csv_file_path_2)\n",
        "\n",
        "# 첫 번째 데이터셋의 오디오 파일 경로 설정 함수 (MER_audio_taffc_dataset)\n",
        "def get_audio_path_taffc(song, quadrant):\n",
        "    return f'/content/drive/MyDrive/sentiment_classification_projects_241014/music_sentiments_classification/MER_audio_taffc_dataset/{quadrant}/{song}.mp3'\n",
        "\n",
        "# 두 번째 데이터셋의 오디오 파일 경로 설정 함수 (OSF_IO)\n",
        "def get_audio_path_osf(set, number):\n",
        "    song_num_str = str(number).zfill(3)\n",
        "    return f'/content/drive/MyDrive/sentiment_classification_projects_241014/music_sentiments_classification/OSF_IO/{set}/{song_num_str}.mp3'\n",
        "\n",
        "# 첫 번째 데이터셋에 오디오 경로 추가\n",
        "data_1['audio_path'] = data_1.apply(lambda row: get_audio_path_taffc(row['Song'], row['Quadrant']), axis=1)\n",
        "\n",
        "# 두 번째 데이터셋에 오디오 경로 추가\n",
        "data_2['audio_path'] = data_2.apply(lambda row: get_audio_path_osf(\"Set1\", row['Nro']), axis=1)\n",
        "\n",
        "# 두 데이터셋 병합\n",
        "data_combined = pd.concat([data_1, data_2], ignore_index=True)\n"
      ],
      "metadata": {
        "id": "oKrbg1ML7dic"
      },
      "execution_count": 3,
      "outputs": []
    },
    {
      "cell_type": "markdown",
      "source": [
        "## 03. MelSpectrogram 전처리 및 데이터셋 준비\n",
        "\n",
        "오디오 파일을 불러와서 CNN이 처리할 수 있도록 스펙트로그램으로 변환합니다.\n"
      ],
      "metadata": {
        "id": "AK5B7ttD7oRa"
      }
    },
    {
      "cell_type": "code",
      "source": [
        "import torchaudio.transforms as transforms\n",
        "from torch.utils.data import Dataset, DataLoader\n",
        "import torch\n",
        "\n",
        "import random\n",
        "\n",
        "class AudioSpectrogramDataset(Dataset):\n",
        "    def __init__(self, dataframe, target_sample_rate=16000, segment_length=80000):  # 5초 = 80000 샘플\n",
        "        self.data = dataframe\n",
        "        self.labels = dataframe['label'].values\n",
        "        self.audio_paths = dataframe['audio_path'].values\n",
        "        self.mel_spectrogram = transforms.MelSpectrogram(sample_rate=target_sample_rate, n_mels=64)\n",
        "        self.segment_length = segment_length  # 고정된 길이 5초\n",
        "        self.segments = []\n",
        "        self._prepare_segments()\n",
        "\n",
        "    def _prepare_segments(self):\n",
        "        # 각 파일을 5초 단위로 나누고 세그먼트 리스트를 만든다\n",
        "        for idx, audio_path in enumerate(self.audio_paths):\n",
        "            waveform, sample_rate = torchaudio.load(audio_path)\n",
        "            label = self.labels[idx]\n",
        "            num_segments = waveform.shape[1] // self.segment_length\n",
        "\n",
        "            for segment_idx in range(num_segments):\n",
        "                start = segment_idx * self.segment_length\n",
        "                end = start + self.segment_length\n",
        "                segment = waveform[:, start:end]\n",
        "\n",
        "                # 스테레오 데이터를 모노로 변환\n",
        "                if segment.shape[0] > 1:\n",
        "                    segment = segment.mean(dim=0, keepdim=True)\n",
        "\n",
        "                # 세그먼트와 레이블을 저장\n",
        "                self.segments.append((segment, label))\n",
        "\n",
        "    def __len__(self):\n",
        "        return len(self.segments)\n",
        "\n",
        "    def __getitem__(self, idx):\n",
        "        segment, label = self.segments[idx]\n",
        "        # MelSpectrogram 변환\n",
        "        spec = self.mel_spectrogram(segment)\n",
        "        return spec, label\n",
        "\n"
      ],
      "metadata": {
        "id": "VlKFyNji7kM_"
      },
      "execution_count": 4,
      "outputs": []
    },
    {
      "cell_type": "code",
      "source": [
        "import torch\n",
        "\n",
        "def pad_spectrogram(spec, max_length):\n",
        "    # spec: [1, n_mels, time]\n",
        "    pad_size = max_length - spec.shape[-1]\n",
        "    return torch.nn.functional.pad(spec, (0, pad_size), \"constant\", 0)  # 오른쪽으로 패딩\n",
        "\n",
        "def collate_fn(batch):\n",
        "    specs, labels = zip(*batch)\n",
        "\n",
        "    # 각 배치의 가장 긴 스펙트로그램 길이 찾기\n",
        "    max_length = max([spec.shape[-1] for spec in specs])\n",
        "\n",
        "    # 패딩 적용하여 모든 스펙트로그램의 길이 맞추기\n",
        "    padded_specs = [pad_spectrogram(spec, max_length) for spec in specs]\n",
        "\n",
        "    # 텐서로 변환\n",
        "    padded_specs = torch.stack(padded_specs)\n",
        "    labels = torch.tensor(labels)\n",
        "\n",
        "    return padded_specs, labels\n"
      ],
      "metadata": {
        "id": "vX1u430b7xmy"
      },
      "execution_count": 5,
      "outputs": []
    },
    {
      "cell_type": "code",
      "source": [
        "# 병합된 데이터셋으로 AudioSpectrogramDataset 준비 (5초씩 조각내기)\n",
        "dataset = AudioSpectrogramDataset(data_combined)\n",
        "\n",
        "# 세그먼트를 섞기\n",
        "random.shuffle(dataset.segments)\n",
        "\n",
        "# Train/Validation Split (섞인 세그먼트로부터 분리)\n",
        "train_size = int(0.8 * len(dataset))\n",
        "val_size = len(dataset) - train_size\n",
        "\n",
        "train_dataset, val_dataset = torch.utils.data.random_split(dataset, [train_size, val_size])\n",
        "\n",
        "# DataLoader 설정\n",
        "train_loader = DataLoader(train_dataset, batch_size=16, shuffle=True, collate_fn=collate_fn)\n",
        "val_loader = DataLoader(val_dataset, batch_size=16, shuffle=False, collate_fn=collate_fn)\n"
      ],
      "metadata": {
        "id": "u_6Wncmp7z0L"
      },
      "execution_count": 6,
      "outputs": []
    },
    {
      "cell_type": "markdown",
      "source": [
        "데이터셋 만드는 것이 지나치게 오래 걸려서 저장해두기"
      ],
      "metadata": {
        "id": "iE67-YdU_LcP"
      }
    },
    {
      "cell_type": "code",
      "source": [
        "dataset_save_path = \"/content/drive/MyDrive/sentiment_classification_projects_241014/music_sentiments_classification/audio_spectrogram_dataset.pt\"\n",
        "\n",
        "# 데이터셋 저장\n",
        "torch.save(dataset.segments, dataset_save_path)\n",
        "print(f\"Dataset segments saved to {dataset_save_path}\")"
      ],
      "metadata": {
        "colab": {
          "base_uri": "https://localhost:8080/"
        },
        "id": "q4WqAIFn_G-A",
        "outputId": "98b3f1a5-f36f-44e9-d10c-d400fa5ac334"
      },
      "execution_count": 7,
      "outputs": [
        {
          "output_type": "stream",
          "name": "stdout",
          "text": [
            "Dataset segments saved to /content/drive/MyDrive/sentiment_classification_projects_241014/music_sentiments_classification/audio_spectrogram_dataset.pt\n"
          ]
        }
      ]
    },
    {
      "cell_type": "code",
      "source": [
        "from collections import Counter\n",
        "\n",
        "# Train/Validation Dataset 크기 출력\n",
        "print(f\"Train dataset size: {len(train_dataset)}\")\n",
        "print(f\"Validation dataset size: {len(val_dataset)}\")\n",
        "\n",
        "# Train 데이터의 레이블 분포 출력\n",
        "train_labels = [label for _, label in train_dataset]\n",
        "train_label_count = Counter(train_labels)\n",
        "print(f\"Train label distribution: {train_label_count}\")\n",
        "\n",
        "# Validation 데이터의 레이블 분포 출력\n",
        "val_labels = [label for _, label in val_dataset]\n",
        "val_label_count = Counter(val_labels)\n",
        "print(f\"Validation label distribution: {val_label_count}\")\n"
      ],
      "metadata": {
        "colab": {
          "base_uri": "https://localhost:8080/"
        },
        "id": "DA3zclE68T8l",
        "outputId": "0064b85e-189e-4670-c57a-e5d4918bc866"
      },
      "execution_count": 8,
      "outputs": [
        {
          "output_type": "stream",
          "name": "stdout",
          "text": [
            "Train dataset size: 8920\n",
            "Validation dataset size: 2231\n",
            "Train label distribution: Counter({2: 3395, 0: 2478, 1: 1150, 4: 958, 3: 939})\n",
            "Validation label distribution: Counter({2: 866, 0: 612, 1: 277, 4: 243, 3: 233})\n"
          ]
        }
      ]
    },
    {
      "cell_type": "markdown",
      "source": [
        "## 04. CNN 모델 초기화"
      ],
      "metadata": {
        "id": "qgZBuvx08ZoZ"
      }
    },
    {
      "cell_type": "code",
      "source": [
        "import torch.nn as nn\n",
        "import torch.nn.functional as F\n",
        "class CNNEmotionClassifier(nn.Module):\n",
        "    def __init__(self, num_classes=5):  # 감정 분류 클래스 수\n",
        "        super(CNNEmotionClassifier, self).__init__()\n",
        "\n",
        "        # CNN Layer\n",
        "        self.conv1 = nn.Conv2d(in_channels=1, out_channels=32, kernel_size=3, stride=1, padding=1)\n",
        "        self.conv2 = nn.Conv2d(in_channels=32, out_channels=64, kernel_size=3, stride=1, padding=1)\n",
        "        self.conv3 = nn.Conv2d(in_channels=64, out_channels=128, kernel_size=3, stride=1, padding=1)\n",
        "        self.pool = nn.MaxPool2d(kernel_size=2, stride=2, padding=0)\n",
        "        self.dropout = nn.Dropout(0.5)\n",
        "\n",
        "        # Fully connected layer\n",
        "        self.fc1 = nn.Linear(128 * 8 * 50, 256)  # 128 * 8 * 50 = 51200\n",
        "        self.fc2 = nn.Linear(256, num_classes)  # 감정 분류 레이블 수\n",
        "\n",
        "    def forward(self, x):\n",
        "        # 입력 데이터 크기: [batch_size, 1, 64, time]\n",
        "        x = self.pool(F.relu(self.conv1(x)))  # (N, 32, 64, time/2)\n",
        "        x = self.pool(F.relu(self.conv2(x)))  # (N, 64, 32, time/4)\n",
        "        x = self.pool(F.relu(self.conv3(x)))  # (N, 128, 16, time/8)\n",
        "\n",
        "        # CNN 출력 후 크기 출력\n",
        "        # print(f\"After conv3: {x.shape}\")\n",
        "\n",
        "        # Flatten: Conv 레이어의 출력을 1D로 변환\n",
        "        x = x.view(x.size(0), -1)  # Flatten (N, 128 * 8 * 50 = 51200)\n",
        "        # print(f\"After flatten: {x.shape}\")\n",
        "\n",
        "        # Fully connected layer\n",
        "        x = F.relu(self.fc1(x))\n",
        "        x = self.fc2(x)\n",
        "        return x\n"
      ],
      "metadata": {
        "id": "Sc397LhH8fBs"
      },
      "execution_count": 9,
      "outputs": []
    },
    {
      "cell_type": "markdown",
      "source": [
        "## 05. 학습"
      ],
      "metadata": {
        "id": "tgI3ivf988HF"
      }
    },
    {
      "cell_type": "code",
      "execution_count": 10,
      "metadata": {
        "colab": {
          "base_uri": "https://localhost:8080/",
          "height": 435,
          "referenced_widgets": [
            "35102a78f32d4ddcac507d7a7f261ed4",
            "e8e96a86fa64417198b2a833ea008e26",
            "c45817e2df844439924249f54ed178e7",
            "721fce4ee7bb443e92402d8b3ef90edc",
            "87cb801b54e7402a94efe71656a80b2a",
            "e3f913767d0a4cf4aae4b4e7b0ee66c6",
            "44286af6dce54b60b86f05610c332843",
            "bc97956dfb81468ebfe28329534c1987",
            "f6183ea0e8314e0e9ca1ceae59d65579",
            "11d760b4b5f441888151318fe760cf89",
            "1813e7c2e13649bda83195e6f8146cfa",
            "5a56fe8df2114dc2baec4bd3fe0c1e27",
            "92da2de8aef0493288c6a8f305235c08",
            "ddd6eff1ef4a48878cf34d5170295de1",
            "a3524282972c4278acebb9353d12fcd7",
            "fe6c3f9397824602bfcd9a2807343a9f"
          ]
        },
        "id": "rDKbrAdi6hWj",
        "outputId": "c34cf869-c8a5-4ad0-b476-09511ba98bd1"
      },
      "outputs": [
        {
          "output_type": "stream",
          "name": "stderr",
          "text": [
            "\u001b[34m\u001b[1mwandb\u001b[0m: Currently logged in as: \u001b[33mskjh0807s\u001b[0m (\u001b[33mskjh0807s-hanghae99\u001b[0m). Use \u001b[1m`wandb login --relogin`\u001b[0m to force relogin\n"
          ]
        },
        {
          "output_type": "display_data",
          "data": {
            "text/plain": [
              "VBox(children=(Label(value='Waiting for wandb.init()...\\r'), FloatProgress(value=0.01111256232222028, max=1.0)…"
            ],
            "application/vnd.jupyter.widget-view+json": {
              "version_major": 2,
              "version_minor": 0,
              "model_id": "35102a78f32d4ddcac507d7a7f261ed4"
            }
          },
          "metadata": {}
        },
        {
          "output_type": "display_data",
          "data": {
            "text/plain": [
              "<IPython.core.display.HTML object>"
            ],
            "text/html": [
              "Tracking run with wandb version 0.18.5"
            ]
          },
          "metadata": {}
        },
        {
          "output_type": "display_data",
          "data": {
            "text/plain": [
              "<IPython.core.display.HTML object>"
            ],
            "text/html": [
              "Run data is saved locally in <code>/content/wandb/run-20241107_142452-0fwgppas</code>"
            ]
          },
          "metadata": {}
        },
        {
          "output_type": "display_data",
          "data": {
            "text/plain": [
              "<IPython.core.display.HTML object>"
            ],
            "text/html": [
              "Syncing run <strong><a href='https://wandb.ai/skjh0807s-hanghae99/music-sentiment-classification/runs/0fwgppas' target=\"_blank\">cnn_model</a></strong> to <a href='https://wandb.ai/skjh0807s-hanghae99/music-sentiment-classification' target=\"_blank\">Weights & Biases</a> (<a href='https://wandb.me/run' target=\"_blank\">docs</a>)<br/>"
            ]
          },
          "metadata": {}
        },
        {
          "output_type": "display_data",
          "data": {
            "text/plain": [
              "<IPython.core.display.HTML object>"
            ],
            "text/html": [
              " View project at <a href='https://wandb.ai/skjh0807s-hanghae99/music-sentiment-classification' target=\"_blank\">https://wandb.ai/skjh0807s-hanghae99/music-sentiment-classification</a>"
            ]
          },
          "metadata": {}
        },
        {
          "output_type": "display_data",
          "data": {
            "text/plain": [
              "<IPython.core.display.HTML object>"
            ],
            "text/html": [
              " View run at <a href='https://wandb.ai/skjh0807s-hanghae99/music-sentiment-classification/runs/0fwgppas' target=\"_blank\">https://wandb.ai/skjh0807s-hanghae99/music-sentiment-classification/runs/0fwgppas</a>"
            ]
          },
          "metadata": {}
        },
        {
          "output_type": "stream",
          "name": "stdout",
          "text": [
            "Training completed. Best validation accuracy: 46.122814881219185\n"
          ]
        },
        {
          "output_type": "display_data",
          "data": {
            "text/plain": [
              "VBox(children=(Label(value='0.012 MB of 0.012 MB uploaded\\r'), FloatProgress(value=1.0, max=1.0)))"
            ],
            "application/vnd.jupyter.widget-view+json": {
              "version_major": 2,
              "version_minor": 0,
              "model_id": "f6183ea0e8314e0e9ca1ceae59d65579"
            }
          },
          "metadata": {}
        },
        {
          "output_type": "display_data",
          "data": {
            "text/plain": [
              "<IPython.core.display.HTML object>"
            ],
            "text/html": [
              "<style>\n",
              "    table.wandb td:nth-child(1) { padding: 0 10px; text-align: left ; width: auto;} td:nth-child(2) {text-align: left ; width: 100%}\n",
              "    .wandb-row { display: flex; flex-direction: row; flex-wrap: wrap; justify-content: flex-start; width: 100% }\n",
              "    .wandb-col { display: flex; flex-direction: column; flex-basis: 100%; flex: 1; padding: 10px; }\n",
              "    </style>\n",
              "<div class=\"wandb-row\"><div class=\"wandb-col\"><h3>Run history:</h3><br/><table class=\"wandb\"><tr><td>eval/loss</td><td>▁▁▁▂▂▃▅▆▇█</td></tr><tr><td>train/loss</td><td>█▅▅▄▃▂▂▂▁▁</td></tr><tr><td>val_accuracy</td><td>▆█▇▇▇▁▄▅██</td></tr></table><br/></div><div class=\"wandb-col\"><h3>Run summary:</h3><br/><table class=\"wandb\"><tr><td>eval/loss</td><td>3.36971</td></tr><tr><td>train/loss</td><td>0.32493</td></tr><tr><td>val_accuracy</td><td>46.07799</td></tr></table><br/></div></div>"
            ]
          },
          "metadata": {}
        },
        {
          "output_type": "display_data",
          "data": {
            "text/plain": [
              "<IPython.core.display.HTML object>"
            ],
            "text/html": [
              " View run <strong style=\"color:#cdcd00\">cnn_model</strong> at: <a href='https://wandb.ai/skjh0807s-hanghae99/music-sentiment-classification/runs/0fwgppas' target=\"_blank\">https://wandb.ai/skjh0807s-hanghae99/music-sentiment-classification/runs/0fwgppas</a><br/> View project at: <a href='https://wandb.ai/skjh0807s-hanghae99/music-sentiment-classification' target=\"_blank\">https://wandb.ai/skjh0807s-hanghae99/music-sentiment-classification</a><br/>Synced 5 W&B file(s), 0 media file(s), 0 artifact file(s) and 0 other file(s)"
            ]
          },
          "metadata": {}
        },
        {
          "output_type": "display_data",
          "data": {
            "text/plain": [
              "<IPython.core.display.HTML object>"
            ],
            "text/html": [
              "Find logs at: <code>./wandb/run-20241107_142452-0fwgppas/logs</code>"
            ]
          },
          "metadata": {}
        }
      ],
      "source": [
        "import os\n",
        "import torch.optim as optim\n",
        "\n",
        "wandb.init(project=\"music-sentiment-classification\", name=\"cnn_model\")\n",
        "\n",
        "# 모델 초기화\n",
        "model = CNNEmotionClassifier(num_classes=5)\n",
        "criterion = nn.CrossEntropyLoss()\n",
        "optimizer = optim.Adam(model.parameters(), lr=1e-4)\n",
        "\n",
        "# GPU가 사용 가능하면 GPU로 모델 이동\n",
        "device = torch.device('cuda' if torch.cuda.is_available() else 'cpu')\n",
        "model.to(device)\n",
        "\n",
        "# 모델을 저장할 경로 설정\n",
        "model_save_path = \"/content/drive/MyDrive/sentiment_classification_projects_241014/music_sentiments_classification/sentiment_classification_cnn_model_wandb.pth\"\n",
        "\n",
        "best_val_accuracy = 0.0\n",
        "num_epochs = 10\n",
        "\n",
        "for epoch in range(num_epochs):\n",
        "    model.train()\n",
        "    running_loss = 0.0\n",
        "    for batch in train_loader:\n",
        "        inputs, labels = batch\n",
        "        inputs, labels = inputs.to(device), labels.to(device)\n",
        "\n",
        "        optimizer.zero_grad()\n",
        "        outputs = model(inputs)\n",
        "        loss = criterion(outputs, labels)\n",
        "        loss.backward()\n",
        "        optimizer.step()\n",
        "\n",
        "        running_loss += loss.item()\n",
        "\n",
        "    avg_train_loss = running_loss / len(train_loader)\n",
        "    wandb.log({\"train/loss\": avg_train_loss})\n",
        "\n",
        "    # 검증 단계\n",
        "    model.eval()\n",
        "    val_loss = 0.0\n",
        "    correct = 0\n",
        "    total = 0\n",
        "    with torch.no_grad():\n",
        "        for batch in val_loader:\n",
        "            inputs, labels = batch\n",
        "            inputs, labels = inputs.to(device), labels.to(device)\n",
        "            outputs = model(inputs)\n",
        "            loss = criterion(outputs, labels)\n",
        "            val_loss += loss.item()\n",
        "            _, predicted = torch.max(outputs, 1)\n",
        "            total += labels.size(0)\n",
        "            correct += (predicted == labels).sum().item()\n",
        "\n",
        "    avg_val_loss = val_loss / len(val_loader)\n",
        "    val_accuracy = 100 * correct / total\n",
        "    wandb.log({\"eval/loss\": avg_val_loss, \"val_accuracy\": val_accuracy})\n",
        "\n",
        "    # 현재 에폭에서의 validation accuracy가 최고일 경우 모델 저장\n",
        "    if val_accuracy > best_val_accuracy:\n",
        "        best_val_accuracy = val_accuracy\n",
        "        torch.save(model.state_dict(), model_save_path)\n",
        "\n",
        "print(f\"Training completed. Best validation accuracy: {best_val_accuracy}\")\n",
        "wandb.finish()\n"
      ]
    }
  ]
}